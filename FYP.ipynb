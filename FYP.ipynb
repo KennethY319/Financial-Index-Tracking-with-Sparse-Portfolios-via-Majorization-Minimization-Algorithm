{
 "cells": [
  {
   "cell_type": "code",
   "execution_count": 207,
   "metadata": {},
   "outputs": [],
   "source": [
    "import datetime\n",
    "import pandas as pd\n",
    "import numpy as np\n",
    "import matplotlib.pyplot as plt\n",
    "import seaborn as sns\n",
    "import statsmodels.api as sm\n",
    "from sklearn import linear_model\n",
    "from sklearn.model_selection import train_test_split, KFold\n",
    "from sklearn.metrics import mean_squared_error\n",
    "from sklearn.ensemble import RandomForestClassifier\n",
    "from sklearn.ensemble import RandomForestRegressor\n",
    "from sklearn.datasets import make_regression\n",
    "from sklearn.svm import SVC\n",
    "# from sklearn.neural_network import MLPRegressor\n",
    "from sklearn.metrics import r2_score\n",
    "from itertools import combinations\n",
    "import pmdarima\n",
    "from pmdarima.arima.utils import ndiffs\n",
    "from sklearn.decomposition import PCA\n",
    "\n",
    "from statsmodels.graphics.tsaplots import plot_acf\n",
    "from statsmodels.graphics.tsaplots import plot_pacf\n",
    "from matplotlib import pyplot\n",
    "\n",
    "import warnings\n",
    "warnings.filterwarnings(\"ignore\")\n"
   ]
  },
  {
   "cell_type": "code",
   "execution_count": 208,
   "metadata": {},
   "outputs": [],
   "source": [
    "#Import Libraries\n",
    "\n",
    "import warnings\n",
    "warnings.filterwarnings(\"ignore\")\n",
    "\n",
    "import os\n",
    "import pandas as pd\n",
    "import numpy as np\n",
    "import talib\n",
    "import matplotlib.pyplot as plt\n",
    "%matplotlib inline\n",
    "import datetime\n",
    "from sklearn import linear_model\n",
    "from sklearn.metrics import accuracy_score,log_loss,precision_score,roc_auc_score,confusion_matrix\n",
    "from sklearn.preprocessing import MinMaxScaler,StandardScaler\n",
    "from sklearn.ensemble import RandomForestClassifier\n",
    "from sklearn.ensemble import RandomForestRegressor\n",
    "from sklearn.datasets import make_regression\n",
    "from sklearn.model_selection import train_test_split\n"
   ]
  },
  {
   "cell_type": "code",
   "execution_count": 209,
   "metadata": {},
   "outputs": [],
   "source": [
    "# General syntax to import specific functions in a library: \n",
    "##from (library) import (specific library function)\n",
    "from pandas import DataFrame, read_csv  # those functions can be used directly\n",
    "import numpy as np  # a package useful for numerical computations\n",
    "import scipy.stats as st\n",
    "# General syntax to import a library but no functions: \n",
    "##import (library) as (give the library a nickname/alias)\n",
    "import matplotlib.pyplot as plt   # all functions func in the package can be used as plt.func\n",
    "import pandas as pd #this is how I usually import pandas\n",
    "import sys #only needed to determine Python version number\n",
    "import os  # some terminal commands\n",
    "import matplotlib #only needed to determine Matplotlib version number\n",
    "import sklearn # sklearn is a popular statistical learning package; we use it to do linear regression\n",
    "from sklearn import datasets \n",
    "\n",
    "from statsmodels.stats.outliers_influence import variance_inflation_factor\n",
    "from pandas_datareader import data as wb\n",
    "# Enable inline plotting\n",
    "%matplotlib inline"
   ]
  },
  {
   "cell_type": "code",
   "execution_count": 210,
   "metadata": {},
   "outputs": [
    {
     "data": {
      "text/html": [
       "<div>\n",
       "<style scoped>\n",
       "    .dataframe tbody tr th:only-of-type {\n",
       "        vertical-align: middle;\n",
       "    }\n",
       "\n",
       "    .dataframe tbody tr th {\n",
       "        vertical-align: top;\n",
       "    }\n",
       "\n",
       "    .dataframe thead th {\n",
       "        text-align: right;\n",
       "    }\n",
       "</style>\n",
       "<table border=\"1\" class=\"dataframe\">\n",
       "  <thead>\n",
       "    <tr style=\"text-align: right;\">\n",
       "      <th></th>\n",
       "      <th>Mkt-RF</th>\n",
       "      <th>SMB</th>\n",
       "      <th>HML</th>\n",
       "      <th>RMW</th>\n",
       "      <th>CMA</th>\n",
       "      <th>RF</th>\n",
       "    </tr>\n",
       "  </thead>\n",
       "  <tbody>\n",
       "    <tr>\n",
       "      <th>200501</th>\n",
       "      <td>-2.76</td>\n",
       "      <td>-1.20</td>\n",
       "      <td>2.09</td>\n",
       "      <td>2.73</td>\n",
       "      <td>-1.38</td>\n",
       "      <td>0.16</td>\n",
       "    </tr>\n",
       "    <tr>\n",
       "      <th>200502</th>\n",
       "      <td>1.89</td>\n",
       "      <td>-0.29</td>\n",
       "      <td>1.60</td>\n",
       "      <td>1.47</td>\n",
       "      <td>-0.04</td>\n",
       "      <td>0.16</td>\n",
       "    </tr>\n",
       "    <tr>\n",
       "      <th>200503</th>\n",
       "      <td>-1.97</td>\n",
       "      <td>-1.36</td>\n",
       "      <td>2.14</td>\n",
       "      <td>0.56</td>\n",
       "      <td>1.12</td>\n",
       "      <td>0.21</td>\n",
       "    </tr>\n",
       "    <tr>\n",
       "      <th>200504</th>\n",
       "      <td>-2.61</td>\n",
       "      <td>-4.02</td>\n",
       "      <td>0.02</td>\n",
       "      <td>0.82</td>\n",
       "      <td>-0.90</td>\n",
       "      <td>0.21</td>\n",
       "    </tr>\n",
       "    <tr>\n",
       "      <th>200505</th>\n",
       "      <td>3.65</td>\n",
       "      <td>2.71</td>\n",
       "      <td>-0.61</td>\n",
       "      <td>-1.09</td>\n",
       "      <td>0.28</td>\n",
       "      <td>0.24</td>\n",
       "    </tr>\n",
       "    <tr>\n",
       "      <th>...</th>\n",
       "      <td>...</td>\n",
       "      <td>...</td>\n",
       "      <td>...</td>\n",
       "      <td>...</td>\n",
       "      <td>...</td>\n",
       "      <td>...</td>\n",
       "    </tr>\n",
       "    <tr>\n",
       "      <th>202006</th>\n",
       "      <td>2.46</td>\n",
       "      <td>1.94</td>\n",
       "      <td>-2.22</td>\n",
       "      <td>0.04</td>\n",
       "      <td>0.34</td>\n",
       "      <td>0.01</td>\n",
       "    </tr>\n",
       "    <tr>\n",
       "      <th>202007</th>\n",
       "      <td>5.77</td>\n",
       "      <td>-3.03</td>\n",
       "      <td>-1.31</td>\n",
       "      <td>0.55</td>\n",
       "      <td>1.06</td>\n",
       "      <td>0.01</td>\n",
       "    </tr>\n",
       "    <tr>\n",
       "      <th>202008</th>\n",
       "      <td>7.63</td>\n",
       "      <td>-0.94</td>\n",
       "      <td>-2.95</td>\n",
       "      <td>4.27</td>\n",
       "      <td>-1.44</td>\n",
       "      <td>0.01</td>\n",
       "    </tr>\n",
       "    <tr>\n",
       "      <th>202009</th>\n",
       "      <td>-3.63</td>\n",
       "      <td>0.07</td>\n",
       "      <td>-2.56</td>\n",
       "      <td>-1.15</td>\n",
       "      <td>-1.77</td>\n",
       "      <td>0.01</td>\n",
       "    </tr>\n",
       "    <tr>\n",
       "      <th>202010</th>\n",
       "      <td>-2.10</td>\n",
       "      <td>4.76</td>\n",
       "      <td>3.88</td>\n",
       "      <td>-0.60</td>\n",
       "      <td>-0.53</td>\n",
       "      <td>0.01</td>\n",
       "    </tr>\n",
       "  </tbody>\n",
       "</table>\n",
       "<p>190 rows × 6 columns</p>\n",
       "</div>"
      ],
      "text/plain": [
       "        Mkt-RF   SMB   HML   RMW   CMA    RF\n",
       "200501   -2.76 -1.20  2.09  2.73 -1.38  0.16\n",
       "200502    1.89 -0.29  1.60  1.47 -0.04  0.16\n",
       "200503   -1.97 -1.36  2.14  0.56  1.12  0.21\n",
       "200504   -2.61 -4.02  0.02  0.82 -0.90  0.21\n",
       "200505    3.65  2.71 -0.61 -1.09  0.28  0.24\n",
       "...        ...   ...   ...   ...   ...   ...\n",
       "202006    2.46  1.94 -2.22  0.04  0.34  0.01\n",
       "202007    5.77 -3.03 -1.31  0.55  1.06  0.01\n",
       "202008    7.63 -0.94 -2.95  4.27 -1.44  0.01\n",
       "202009   -3.63  0.07 -2.56 -1.15 -1.77  0.01\n",
       "202010   -2.10  4.76  3.88 -0.60 -0.53  0.01\n",
       "\n",
       "[190 rows x 6 columns]"
      ]
     },
     "execution_count": 210,
     "metadata": {},
     "output_type": "execute_result"
    }
   ],
   "source": [
    "# set display options\n",
    "pd.options.display.max_rows, pd.options.display.max_columns = 10, 25\n",
    "factor = pd.read_csv('5_factors.csv')\n",
    "factor.index = factor['Time'].values\n",
    "del factor['Time']\n",
    "factor.dropna(inplace = True)\n",
    "# factor = factor[-409:]\n",
    "# factor = factor.loc[198701:,:]\n",
    "factor = factor.loc[200501:,:]\n",
    "factor"
   ]
  },
  {
   "cell_type": "code",
   "execution_count": 1085,
   "metadata": {},
   "outputs": [],
   "source": [
    "table = pd.DataFrame()\n",
    "\n",
    "# Train Data\n",
    "# hk_HSI = wb.get_data_yahoo('^HSI',start='1987-2-1', end='2020-11-1', interval='m')\n",
    "\n",
    "hk_0001 = wb.get_data_yahoo('0045.Hk',start='2005-2-1', end='2020-11-1', interval='m')\n",
    "hk_0002 = wb.get_data_yahoo('0326.HK',start='2005-2-1', end='2020-11-1', interval='m')\n",
    "hk_0003 = wb.get_data_yahoo('0008.HK',start='2005-2-1', end='2020-11-1', interval='m')\n",
    "hk_0004 = wb.get_data_yahoo('0133.Hk',start='2005-2-1', end='2020-11-1', interval='m')\n",
    "hk_0005 = wb.get_data_yahoo('0137.HK',start='2005-2-1', end='2020-11-1', interval='m')\n",
    "hk_0006 = wb.get_data_yahoo('0045.HK',start='2005-2-1', end='2020-11-1', interval='m')\n",
    "hk_0007 = wb.get_data_yahoo('0083.Hk',start='2005-2-1', end='2020-11-1', interval='m')\n",
    "hk_0008 = wb.get_data_yahoo('0030.Hk',start='2005-2-1', end='2020-11-1', interval='m')\n",
    "hk_0009 = wb.get_data_yahoo('0084.HK',start='2005-2-1', end='2020-11-1', interval='m')\n",
    "hk_0010 = wb.get_data_yahoo('0026.HK',start='2005-2-1', end='2020-11-1', interval='m')\n",
    "# 0008 0137\n",
    "\n",
    "# 0026 0030 0045\n",
    "\n",
    "\n",
    "\n",
    "# 0008 0016 0062 0060 0137\n",
    "\n",
    "#0110 0138 0141 0158 0159 0160 0197 0199 0200 0251 0253\n"
   ]
  },
  {
   "cell_type": "code",
   "execution_count": 1086,
   "metadata": {},
   "outputs": [
    {
     "name": "stdout",
     "output_type": "stream",
     "text": [
      "hk_0001 =  190\n",
      "hk_0002 =  190\n",
      "hk_0003 =  190\n",
      "hk_0004 =  190\n",
      "hk_0005 =  190\n",
      "hk_0006 =  190\n",
      "hk_0007 =  190\n",
      "hk_0008 =  190\n",
      "hk_0009 =  190\n",
      "hk_0010 =  190\n"
     ]
    }
   ],
   "source": [
    "print('hk_0001 = ', len(hk_0001))\n",
    "print('hk_0002 = ', len(hk_0002))\n",
    "print('hk_0003 = ', len(hk_0003))\n",
    "print('hk_0004 = ', len(hk_0004))\n",
    "print('hk_0005 = ', len(hk_0005))\n",
    "print('hk_0006 = ', len(hk_0006))\n",
    "print('hk_0007 = ', len(hk_0007))\n",
    "print('hk_0008 = ', len(hk_0008))\n",
    "print('hk_0009 = ', len(hk_0009))\n",
    "print('hk_0010 = ', len(hk_0010))"
   ]
  },
  {
   "cell_type": "code",
   "execution_count": 1087,
   "metadata": {},
   "outputs": [],
   "source": [
    "hk_0001['Mkt-RF'] = factor['Mkt-RF'].values\n",
    "hk_0001['SMB'] = factor['SMB'].values\n",
    "hk_0001['HML'] = factor['HML'].values\n",
    "hk_0001['RMW'] = factor['RMW'].values\n",
    "hk_0001['CMA'] = factor['CMA'].values\n",
    "hk_0001['RF'] = factor['RF'].values\n",
    "hk_0001['Return-RF'] = (hk_0001['Close'] - hk_0001['Open']) / hk_0001['Open']\n",
    "\n",
    "\n",
    "hk_0002['Mkt-RF'] = factor['Mkt-RF'].values\n",
    "hk_0002['SMB'] = factor['SMB'].values\n",
    "hk_0002['HML'] = factor['HML'].values\n",
    "hk_0002['RMW'] = factor['RMW'].values\n",
    "hk_0002['CMA'] = factor['CMA'].values\n",
    "hk_0002['RF'] = factor['RF'].values\n",
    "hk_0002['Return-RF'] = (hk_0002['Close'] - hk_0002['Open']) / hk_0002['Open']\n",
    "\n",
    "hk_0003['Mkt-RF'] = factor['Mkt-RF'].values\n",
    "hk_0003['SMB'] = factor['SMB'].values\n",
    "hk_0003['HML'] = factor['HML'].values\n",
    "hk_0003['RMW'] = factor['RMW'].values\n",
    "hk_0003['CMA'] = factor['CMA'].values\n",
    "hk_0003['RF'] = factor['RF'].values\n",
    "hk_0003['Return-RF'] = (hk_0003['Close'] - hk_0003['Open']) / hk_0003['Open']\n",
    "\n",
    "hk_0004['Mkt-RF'] = factor['Mkt-RF'].values\n",
    "hk_0004['SMB'] = factor['SMB'].values\n",
    "hk_0004['HML'] = factor['HML'].values\n",
    "hk_0004['RMW'] = factor['RMW'].values\n",
    "hk_0004['CMA'] = factor['CMA'].values\n",
    "hk_0004['RF'] = factor['RF'].values\n",
    "hk_0004['Return-RF'] = (hk_0004['Close'] - hk_0004['Open']) / hk_0004['Open']\n",
    "\n",
    "hk_0005['Mkt-RF'] = factor['Mkt-RF'].values\n",
    "hk_0005['SMB'] = factor['SMB'].values\n",
    "hk_0005['HML'] = factor['HML'].values\n",
    "hk_0005['RMW'] = factor['RMW'].values\n",
    "hk_0005['CMA'] = factor['CMA'].values\n",
    "hk_0005['RF'] = factor['RF'].values\n",
    "hk_0005['Return-RF'] = (hk_0005['Close'] - hk_0005['Open']) / hk_0005['Open']\n",
    "\n",
    "hk_0006['Mkt-RF'] = factor['Mkt-RF'].values\n",
    "hk_0006['SMB'] = factor['SMB'].values\n",
    "hk_0006['HML'] = factor['HML'].values\n",
    "hk_0006['RMW'] = factor['RMW'].values\n",
    "hk_0006['CMA'] = factor['CMA'].values\n",
    "hk_0006['RF'] = factor['RF'].values\n",
    "hk_0006['Return-RF'] = (hk_0006['Close'] - hk_0006['Open']) / hk_0006['Open']\n",
    "\n",
    "hk_0007['Mkt-RF'] = factor['Mkt-RF'].values\n",
    "hk_0007['SMB'] = factor['SMB'].values\n",
    "hk_0007['HML'] = factor['HML'].values\n",
    "hk_0007['RMW'] = factor['RMW'].values\n",
    "hk_0007['CMA'] = factor['CMA'].values\n",
    "hk_0007['RF'] = factor['RF'].values\n",
    "hk_0007['Return-RF'] = (hk_0007['Close'] - hk_0007['Open']) / hk_0007['Open']\n",
    "\n",
    "hk_0008['Mkt-RF'] = factor['Mkt-RF'].values\n",
    "hk_0008['SMB'] = factor['SMB'].values\n",
    "hk_0008['HML'] = factor['HML'].values\n",
    "hk_0008['RMW'] = factor['RMW'].values\n",
    "hk_0008['CMA'] = factor['CMA'].values\n",
    "hk_0008['RF'] = factor['RF'].values\n",
    "hk_0008['Return-RF'] = (hk_0008['Close'] - hk_0008['Open']) / hk_0008['Open']\n",
    "\n",
    "hk_0009['Mkt-RF'] = factor['Mkt-RF'].values\n",
    "hk_0009['SMB'] = factor['SMB'].values\n",
    "hk_0009['HML'] = factor['HML'].values\n",
    "hk_0009['RMW'] = factor['RMW'].values\n",
    "hk_0009['CMA'] = factor['CMA'].values\n",
    "hk_0009['RF'] = factor['RF'].values\n",
    "hk_0009['Return-RF'] = (hk_0009['Close'] - hk_0009['Open']) / hk_0009['Open']\n",
    "\n",
    "hk_0010['Mkt-RF'] = factor['Mkt-RF'].values\n",
    "hk_0010['SMB'] = factor['SMB'].values\n",
    "hk_0010['HML'] = factor['HML'].values\n",
    "hk_0010['RMW'] = factor['RMW'].values\n",
    "hk_0010['CMA'] = factor['CMA'].values\n",
    "hk_0010['RF'] = factor['RF'].values\n",
    "hk_0010['Return-RF'] = (hk_0010['Close'] - hk_0010['Open']) / hk_0010['Open']\n",
    "\n",
    "\n",
    "\n"
   ]
  },
  {
   "cell_type": "markdown",
   "metadata": {},
   "source": [
    "# Technical Indicators"
   ]
  },
  {
   "cell_type": "markdown",
   "metadata": {},
   "source": [
    "# Oscillators and Trend Following Indicators"
   ]
  },
  {
   "cell_type": "markdown",
   "metadata": {},
   "source": [
    "### 1. MACD"
   ]
  },
  {
   "cell_type": "code",
   "execution_count": 1088,
   "metadata": {},
   "outputs": [],
   "source": [
    "def MACD(stock_open, stock_high, stock_low, stock_close, stock_volume):\n",
    "    macd, macdsignal, macdhist = talib.MACD(stock_close, fastperiod=26, slowperiod=12, signalperiod=9)\n",
    "    MACD = pd.DataFrame(data={'MACD': macd})\n",
    "    MACD.dropna(inplace=True)\n",
    "    return MACD\n"
   ]
  },
  {
   "cell_type": "markdown",
   "metadata": {},
   "source": [
    "### 2. MACD HISTOGRAM"
   ]
  },
  {
   "cell_type": "code",
   "execution_count": 1089,
   "metadata": {},
   "outputs": [],
   "source": [
    "def MACDH(stock_open, stock_high, stock_low, stock_close, stock_volume):\n",
    "    macd, macdsignal, macdhist = talib.MACD(stock_close, fastperiod=26, slowperiod=12, signalperiod=9)\n",
    "    \n",
    "    \n",
    "    MACDH = pd.DataFrame(data={'MHIST': macdhist, 'PrevMHIST': macdhist.shift(1)})\n",
    "    MACDH.dropna(inplace=True)\n",
    "    MACDH['MACDH'] = MACDH['MHIST'] - MACDH['PrevMHIST']\n",
    "    del MACDH['MHIST']\n",
    "    del MACDH['PrevMHIST']\n",
    "    return MACDH"
   ]
  },
  {
   "cell_type": "markdown",
   "metadata": {},
   "source": [
    "### 3. Average Directional Index (ADX)"
   ]
  },
  {
   "cell_type": "code",
   "execution_count": 1090,
   "metadata": {},
   "outputs": [],
   "source": [
    "def ADX(stock_open, stock_high, stock_low, stock_close, stock_volume):\n",
    "    adx = talib.ADX(stock_high, stock_low, stock_close, timeperiod=14)\n",
    "    ADX = pd.DataFrame(data={'ADX': adx})\n",
    "    ADX.dropna(inplace=True)\n",
    "    return ADX\n"
   ]
  },
  {
   "cell_type": "markdown",
   "metadata": {},
   "source": [
    "### 4. Relative Strength Index (RSI)"
   ]
  },
  {
   "cell_type": "code",
   "execution_count": 1091,
   "metadata": {},
   "outputs": [],
   "source": [
    "def RSI(stock_open, stock_high, stock_low, stock_close, stock_volume):\n",
    "    rsi = talib.RSI(stock_close, timeperiod=14)\n",
    "    RSI = pd.DataFrame(data={'RSI': rsi})\n",
    "    RSI.dropna(inplace=True)\n",
    "    return RSI"
   ]
  },
  {
   "cell_type": "markdown",
   "metadata": {},
   "source": [
    "# Volatility Indicators"
   ]
  },
  {
   "cell_type": "markdown",
   "metadata": {},
   "source": [
    "### 5. Bollinger Bands"
   ]
  },
  {
   "cell_type": "code",
   "execution_count": 1092,
   "metadata": {},
   "outputs": [],
   "source": [
    "def BB(stock_open, stock_high, stock_low, stock_close, stock_volume):\n",
    "    upper, middle, lower = talib.BBANDS(stock_close, timeperiod=26)\n",
    "    bb = (stock_close - middle)/(upper - lower)\n",
    "    BB = pd.DataFrame(data={'BB': bb})\n",
    "    BB.dropna(inplace=True)\n",
    "    return BB\n",
    "\n"
   ]
  },
  {
   "cell_type": "markdown",
   "metadata": {},
   "source": [
    "### 6. ATR"
   ]
  },
  {
   "cell_type": "code",
   "execution_count": 1093,
   "metadata": {},
   "outputs": [],
   "source": [
    "def ATR(stock_open, stock_high, stock_low, stock_close, stock_volume):\n",
    "    atr = talib.ATR(stock_high, stock_low, stock_close, timeperiod=20)\n",
    "    ATR = pd.DataFrame(data={'ATR': atr})\n",
    "    ATR.dropna(inplace=True)\n",
    "    return ATR"
   ]
  },
  {
   "cell_type": "markdown",
   "metadata": {},
   "source": [
    "# Volume Indicators"
   ]
  },
  {
   "cell_type": "markdown",
   "metadata": {},
   "source": [
    "### 7.  Exponential Moving Average of Force Index"
   ]
  },
  {
   "cell_type": "code",
   "execution_count": 1094,
   "metadata": {},
   "outputs": [],
   "source": [
    "def EFI(stock_open, stock_high, stock_low, stock_close, stock_volume):\n",
    "    dict = {'Volume': stock_volume, 'Close': stock_close}\n",
    "    df = pd.DataFrame(data=dict)\n",
    "    df.dropna(inplace=True)\n",
    "    \n",
    "    fi = df['Volume']*(df['Close'] - df['Close'].shift(1))\n",
    "    efi = talib.EMA(fi, timeperiod=13)\n",
    "\n",
    "    EFI = pd.DataFrame(data={'EFi': efi})\n",
    "    EFI.dropna(inplace=True)\n",
    "    return EFI\n"
   ]
  },
  {
   "cell_type": "markdown",
   "metadata": {},
   "source": [
    "# 8. Volume"
   ]
  },
  {
   "cell_type": "code",
   "execution_count": 1095,
   "metadata": {},
   "outputs": [],
   "source": [
    "def Volume(stock_open, stock_high, stock_low, stock_close, stock_volume):\n",
    "    Volome = pd.DataFrame(data={'RSI': stock_volume})\n",
    "    Volome.dropna(inplace=True)\n",
    "    return Volome"
   ]
  },
  {
   "cell_type": "code",
   "execution_count": 1096,
   "metadata": {},
   "outputs": [],
   "source": [
    "hk_0001['Return'] = ((hk_0001['Close'] - hk_0001['Open']) / hk_0001['Open'])\n",
    "hk_0001['MACD'] = MACD(hk_0001['Open'], hk_0001['High'], hk_0001['Low'], hk_0001['Close'], hk_0001['Volume'])\n",
    "hk_0001['MACDH'] = MACDH(hk_0001['Open'], hk_0001['High'], hk_0001['Low'], hk_0001['Close'], hk_0001['Volume'])\n",
    "hk_0001['ADX'] = ADX(hk_0001['Open'], hk_0001['High'], hk_0001['Low'], hk_0001['Close'], hk_0001['Volume'])\n",
    "hk_0001['RSI'] = RSI(hk_0001['Open'], hk_0001['High'], hk_0001['Low'], hk_0001['Close'], hk_0001['Volume'])\n",
    "hk_0001['BB'] = BB(hk_0001['Open'], hk_0001['High'], hk_0001['Low'], hk_0001['Close'], hk_0001['Volume'])\n",
    "hk_0001['ATR'] = ATR(hk_0001['Open'], hk_0001['High'], hk_0001['Low'], hk_0001['Close'], hk_0001['Volume'])\n",
    "hk_0001['EFI'] = EFI(hk_0001['Open'], hk_0001['High'], hk_0001['Low'], hk_0001['Close'], hk_0001['Volume'])\n",
    "hk_0001['Volume'] = Volume(hk_0001['Open'], hk_0001['High'], hk_0001['Low'], hk_0001['Close'], hk_0001['Volume'])\n",
    "hk_0001.dropna(inplace=True)\n",
    "\n",
    "\n",
    "hk_0002['Return'] = ((hk_0002['Close'] - hk_0002['Open']) / hk_0002['Open'])\n",
    "hk_0002['MACD'] = MACD(hk_0002['Open'], hk_0002['High'], hk_0002['Low'], hk_0002['Close'], hk_0002['Volume'])\n",
    "hk_0002['MACDH'] = MACDH(hk_0002['Open'], hk_0002['High'], hk_0002['Low'], hk_0002['Close'], hk_0002['Volume'])\n",
    "hk_0002['ADX'] = ADX(hk_0002['Open'], hk_0002['High'], hk_0002['Low'], hk_0002['Close'], hk_0002['Volume'])\n",
    "hk_0002['RSI'] = RSI(hk_0002['Open'], hk_0002['High'], hk_0002['Low'], hk_0002['Close'], hk_0002['Volume'])\n",
    "hk_0002['BB'] = BB(hk_0002['Open'], hk_0002['High'], hk_0002['Low'], hk_0002['Close'], hk_0002['Volume'])\n",
    "hk_0002['ATR'] = ATR(hk_0002['Open'], hk_0002['High'], hk_0002['Low'], hk_0002['Close'], hk_0002['Volume'])\n",
    "hk_0002['EFI'] = EFI(hk_0002['Open'], hk_0002['High'], hk_0002['Low'], hk_0002['Close'], hk_0002['Volume'])\n",
    "hk_0002['Volume'] = Volume(hk_0002['Open'], hk_0002['High'], hk_0002['Low'], hk_0002['Close'], hk_0002['Volume'])\n",
    "hk_0002.dropna(inplace=True)\n",
    "\n",
    "\n",
    "hk_0003['Return'] = ((hk_0003['Close'] - hk_0003['Open']) / hk_0003['Open'])\n",
    "hk_0003['MACD'] = MACD(hk_0003['Open'], hk_0003['High'], hk_0003['Low'], hk_0003['Close'], hk_0003['Volume'])\n",
    "hk_0003['MACDH'] = MACDH(hk_0003['Open'], hk_0003['High'], hk_0003['Low'], hk_0003['Close'], hk_0003['Volume'])\n",
    "hk_0003['ADX'] = ADX(hk_0003['Open'], hk_0003['High'], hk_0003['Low'], hk_0003['Close'], hk_0003['Volume'])\n",
    "hk_0003['RSI'] = RSI(hk_0003['Open'], hk_0003['High'], hk_0003['Low'], hk_0003['Close'], hk_0003['Volume'])\n",
    "hk_0003['BB'] = BB(hk_0003['Open'], hk_0003['High'], hk_0003['Low'], hk_0003['Close'], hk_0003['Volume'])\n",
    "hk_0003['ATR'] = ATR(hk_0003['Open'], hk_0003['High'], hk_0003['Low'], hk_0003['Close'], hk_0003['Volume'])\n",
    "hk_0003['EFI'] = EFI(hk_0003['Open'], hk_0003['High'], hk_0003['Low'], hk_0003['Close'], hk_0003['Volume'])\n",
    "hk_0003['Volume'] = Volume(hk_0003['Open'], hk_0003['High'], hk_0003['Low'], hk_0003['Close'], hk_0003['Volume'])\n",
    "hk_0003.dropna(inplace=True)\n",
    "\n",
    "\n",
    "hk_0004['Return'] = ((hk_0004['Close'] - hk_0004['Open']) / hk_0004['Open'])\n",
    "hk_0004['MACD'] = MACD(hk_0004['Open'], hk_0004['High'], hk_0004['Low'], hk_0004['Close'], hk_0004['Volume'])\n",
    "hk_0004['MACDH'] = MACDH(hk_0004['Open'], hk_0004['High'], hk_0004['Low'], hk_0004['Close'], hk_0004['Volume'])\n",
    "hk_0004['ADX'] = ADX(hk_0004['Open'], hk_0004['High'], hk_0004['Low'], hk_0004['Close'], hk_0004['Volume'])\n",
    "hk_0004['RSI'] = RSI(hk_0004['Open'], hk_0004['High'], hk_0004['Low'], hk_0004['Close'], hk_0004['Volume'])\n",
    "hk_0004['BB'] = BB(hk_0004['Open'], hk_0004['High'], hk_0004['Low'], hk_0004['Close'], hk_0004['Volume'])\n",
    "hk_0004['ATR'] = ATR(hk_0004['Open'], hk_0004['High'], hk_0004['Low'], hk_0004['Close'], hk_0004['Volume'])\n",
    "hk_0004['EFI'] = EFI(hk_0004['Open'], hk_0004['High'], hk_0004['Low'], hk_0004['Close'], hk_0004['Volume'])\n",
    "hk_0004['Volume'] = Volume(hk_0004['Open'], hk_0004['High'], hk_0004['Low'], hk_0004['Close'], hk_0004['Volume'])\n",
    "hk_0004.dropna(inplace=True)\n",
    "\n",
    "\n",
    "hk_0005['Return'] = ((hk_0005['Close'] - hk_0005['Open']) / hk_0005['Open'])\n",
    "hk_0005['MACD'] = MACD(hk_0005['Open'], hk_0005['High'], hk_0005['Low'], hk_0005['Close'], hk_0005['Volume'])\n",
    "hk_0005['MACDH'] = MACDH(hk_0005['Open'], hk_0005['High'], hk_0005['Low'], hk_0005['Close'], hk_0005['Volume'])\n",
    "hk_0005['ADX'] = ADX(hk_0005['Open'], hk_0005['High'], hk_0005['Low'], hk_0005['Close'], hk_0005['Volume'])\n",
    "hk_0005['RSI'] = RSI(hk_0005['Open'], hk_0005['High'], hk_0005['Low'], hk_0005['Close'], hk_0005['Volume'])\n",
    "hk_0005['BB'] = BB(hk_0005['Open'], hk_0005['High'], hk_0005['Low'], hk_0005['Close'], hk_0005['Volume'])\n",
    "hk_0005['ATR'] = ATR(hk_0005['Open'], hk_0005['High'], hk_0005['Low'], hk_0005['Close'], hk_0005['Volume'])\n",
    "hk_0005['EFI'] = EFI(hk_0005['Open'], hk_0005['High'], hk_0005['Low'], hk_0005['Close'], hk_0005['Volume'])\n",
    "hk_0005['Volume'] = Volume(hk_0005['Open'], hk_0005['High'], hk_0005['Low'], hk_0005['Close'], hk_0005['Volume'])\n",
    "hk_0005.dropna(inplace=True)\n",
    "\n",
    "\n",
    "hk_0006['Return'] = ((hk_0006['Close'] - hk_0006['Open']) / hk_0006['Open'])\n",
    "hk_0006['MACD'] = MACD(hk_0006['Open'], hk_0006['High'], hk_0006['Low'], hk_0006['Close'], hk_0006['Volume'])\n",
    "hk_0006['MACDH'] = MACDH(hk_0006['Open'], hk_0006['High'], hk_0006['Low'], hk_0006['Close'], hk_0006['Volume'])\n",
    "hk_0006['ADX'] = ADX(hk_0006['Open'], hk_0006['High'], hk_0006['Low'], hk_0006['Close'], hk_0006['Volume'])\n",
    "hk_0006['RSI'] = RSI(hk_0006['Open'], hk_0006['High'], hk_0006['Low'], hk_0006['Close'], hk_0006['Volume'])\n",
    "hk_0006['BB'] = BB(hk_0006['Open'], hk_0006['High'], hk_0006['Low'], hk_0006['Close'], hk_0006['Volume'])\n",
    "hk_0006['ATR'] = ATR(hk_0006['Open'], hk_0006['High'], hk_0006['Low'], hk_0006['Close'], hk_0006['Volume'])\n",
    "hk_0006['EFI'] = EFI(hk_0006['Open'], hk_0006['High'], hk_0006['Low'], hk_0006['Close'], hk_0006['Volume'])\n",
    "hk_0006['Volume'] = Volume(hk_0006['Open'], hk_0006['High'], hk_0006['Low'], hk_0006['Close'], hk_0006['Volume'])\n",
    "hk_0006.dropna(inplace=True)\n",
    "\n",
    "hk_0007['Return'] = ((hk_0007['Close'] - hk_0007['Open']) / hk_0007['Open'])\n",
    "hk_0007['MACD'] = MACD(hk_0007['Open'], hk_0007['High'], hk_0007['Low'], hk_0007['Close'], hk_0007['Volume'])\n",
    "hk_0007['MACDH'] = MACDH(hk_0007['Open'], hk_0007['High'], hk_0007['Low'], hk_0007['Close'], hk_0007['Volume'])\n",
    "hk_0007['ADX'] = ADX(hk_0007['Open'], hk_0007['High'], hk_0007['Low'], hk_0007['Close'], hk_0007['Volume'])\n",
    "hk_0007['RSI'] = RSI(hk_0007['Open'], hk_0007['High'], hk_0007['Low'], hk_0007['Close'], hk_0007['Volume'])\n",
    "hk_0007['BB'] = BB(hk_0007['Open'], hk_0007['High'], hk_0007['Low'], hk_0007['Close'], hk_0007['Volume'])\n",
    "hk_0007['ATR'] = ATR(hk_0007['Open'], hk_0007['High'], hk_0007['Low'], hk_0007['Close'], hk_0007['Volume'])\n",
    "hk_0007['EFI'] = EFI(hk_0007['Open'], hk_0007['High'], hk_0007['Low'], hk_0007['Close'], hk_0007['Volume'])\n",
    "hk_0007['Volume'] = Volume(hk_0007['Open'], hk_0007['High'], hk_0007['Low'], hk_0007['Close'], hk_0007['Volume'])\n",
    "hk_0007.dropna(inplace=True)\n",
    "\n",
    "hk_0008['Return'] = ((hk_0008['Close'] - hk_0008['Open']) / hk_0008['Open'])\n",
    "hk_0008['MACD'] = MACD(hk_0008['Open'], hk_0008['High'], hk_0008['Low'], hk_0008['Close'], hk_0008['Volume'])\n",
    "hk_0008['MACDH'] = MACDH(hk_0008['Open'], hk_0008['High'], hk_0008['Low'], hk_0008['Close'], hk_0008['Volume'])\n",
    "hk_0008['ADX'] = ADX(hk_0008['Open'], hk_0008['High'], hk_0008['Low'], hk_0008['Close'], hk_0008['Volume'])\n",
    "hk_0008['RSI'] = RSI(hk_0008['Open'], hk_0008['High'], hk_0008['Low'], hk_0008['Close'], hk_0008['Volume'])\n",
    "hk_0008['BB'] = BB(hk_0008['Open'], hk_0008['High'], hk_0008['Low'], hk_0008['Close'], hk_0008['Volume'])\n",
    "hk_0008['ATR'] = ATR(hk_0008['Open'], hk_0008['High'], hk_0008['Low'], hk_0008['Close'], hk_0008['Volume'])\n",
    "hk_0008['EFI'] = EFI(hk_0008['Open'], hk_0008['High'], hk_0008['Low'], hk_0008['Close'], hk_0008['Volume'])\n",
    "hk_0008['Volume'] = Volume(hk_0008['Open'], hk_0008['High'], hk_0008['Low'], hk_0008['Close'], hk_0008['Volume'])\n",
    "hk_0008.dropna(inplace=True)\n",
    "\n",
    "\n",
    "hk_0009['Return'] = ((hk_0009['Close'] - hk_0009['Open']) / hk_0009['Open'])\n",
    "hk_0009['MACD'] = MACD(hk_0009['Open'], hk_0009['High'], hk_0009['Low'], hk_0009['Close'], hk_0009['Volume'])\n",
    "hk_0009['MACDH'] = MACDH(hk_0009['Open'], hk_0009['High'], hk_0009['Low'], hk_0009['Close'], hk_0009['Volume'])\n",
    "hk_0009['ADX'] = ADX(hk_0009['Open'], hk_0009['High'], hk_0009['Low'], hk_0009['Close'], hk_0009['Volume'])\n",
    "hk_0009['RSI'] = RSI(hk_0009['Open'], hk_0009['High'], hk_0009['Low'], hk_0009['Close'], hk_0009['Volume'])\n",
    "hk_0009['BB'] = BB(hk_0009['Open'], hk_0009['High'], hk_0009['Low'], hk_0009['Close'], hk_0009['Volume'])\n",
    "hk_0009['ATR'] = ATR(hk_0009['Open'], hk_0009['High'], hk_0009['Low'], hk_0009['Close'], hk_0009['Volume'])\n",
    "hk_0009['EFI'] = EFI(hk_0009['Open'], hk_0009['High'], hk_0009['Low'], hk_0009['Close'], hk_0009['Volume'])\n",
    "hk_0009['Volume'] = Volume(hk_0009['Open'], hk_0009['High'], hk_0009['Low'], hk_0009['Close'], hk_0009['Volume'])\n",
    "hk_0009.dropna(inplace=True)\n",
    "\n",
    "\n",
    "hk_0010['Return'] = ((hk_0010['Close'] - hk_0010['Open']) / hk_0010['Open'])\n",
    "hk_0010['MACD'] = MACD(hk_0010['Open'], hk_0010['High'], hk_0010['Low'], hk_0010['Close'], hk_0010['Volume'])\n",
    "hk_0010['MACDH'] = MACDH(hk_0010['Open'], hk_0010['High'], hk_0010['Low'], hk_0010['Close'], hk_0010['Volume'])\n",
    "hk_0010['ADX'] = ADX(hk_0010['Open'], hk_0010['High'], hk_0010['Low'], hk_0010['Close'], hk_0010['Volume'])\n",
    "hk_0010['RSI'] = RSI(hk_0010['Open'], hk_0010['High'], hk_0010['Low'], hk_0010['Close'], hk_0010['Volume'])\n",
    "hk_0010['BB'] = BB(hk_0010['Open'], hk_0010['High'], hk_0010['Low'], hk_0010['Close'], hk_0010['Volume'])\n",
    "hk_0010['ATR'] = ATR(hk_0010['Open'], hk_0010['High'], hk_0010['Low'], hk_0010['Close'], hk_0010['Volume'])\n",
    "hk_0010['EFI'] = EFI(hk_0010['Open'], hk_0010['High'], hk_0010['Low'], hk_0010['Close'], hk_0010['Volume'])\n",
    "hk_0010['Volume'] = Volume(hk_0010['Open'], hk_0010['High'], hk_0010['Low'], hk_0010['Close'], hk_0010['Volume'])\n",
    "hk_0010.dropna(inplace=True)\n",
    "\n"
   ]
  },
  {
   "cell_type": "code",
   "execution_count": null,
   "metadata": {},
   "outputs": [],
   "source": []
  },
  {
   "cell_type": "markdown",
   "metadata": {},
   "source": [
    "# Extended-Factors Model (Linearly Regression)"
   ]
  },
  {
   "cell_type": "markdown",
   "metadata": {},
   "source": [
    "# Principle Component Analysis on Feature"
   ]
  },
  {
   "cell_type": "code",
   "execution_count": 1097,
   "metadata": {},
   "outputs": [],
   "source": [
    "features = ['Mkt-RF','SMB','HML','RMW','CMA','MACD','MACDH','ADX','RSI','BB','ATR','EFI','Volume']\n",
    "target = ['Return-RF']"
   ]
  },
  {
   "cell_type": "code",
   "execution_count": 1098,
   "metadata": {},
   "outputs": [
    {
     "data": {
      "text/plain": [
       "PCA(n_components=13)"
      ]
     },
     "execution_count": 1098,
     "metadata": {},
     "output_type": "execute_result"
    }
   ],
   "source": [
    "X_0001 = hk_0001[features]\n",
    "pca_number = 13\n",
    "pca_0001 = PCA(n_components=pca_number)\n",
    "pca_0001.fit(X_0001)\n",
    "\n",
    "X_0002 = hk_0002[features]\n",
    "pca_number = 13\n",
    "pca_0002 = PCA(n_components=pca_number)\n",
    "pca_0002.fit(X_0002)\n",
    "\n",
    "X_0003 = hk_0003[features]\n",
    "pca_number = 13\n",
    "pca_0003 = PCA(n_components=pca_number)\n",
    "pca_0003.fit(X_0003)\n",
    "\n",
    "X_0004 = hk_0004[features]\n",
    "pca_number = 13\n",
    "pca_0004 = PCA(n_components=pca_number)\n",
    "pca_0004.fit(X_0004)\n",
    "\n",
    "X_0005 = hk_0005[features]\n",
    "pca_number = 13\n",
    "pca_0005 = PCA(n_components=pca_number)\n",
    "pca_0005.fit(X_0005)\n",
    "\n",
    "X_0006 = hk_0006[features]\n",
    "pca_number = 13\n",
    "pca_0006 = PCA(n_components=pca_number)\n",
    "pca_0006.fit(X_0006)\n",
    "\n",
    "X_0007 = hk_0007[features]\n",
    "pca_number = 13\n",
    "pca_0007 = PCA(n_components=pca_number)\n",
    "pca_0007.fit(X_0007)\n",
    "\n",
    "X_0008 = hk_0008[features]\n",
    "pca_number = 13\n",
    "pca_0008 = PCA(n_components=pca_number)\n",
    "pca_0008.fit(X_0008)\n",
    "\n",
    "\n",
    "X_0009 = hk_0009[features]\n",
    "pca_number = 13\n",
    "pca_0009 = PCA(n_components=pca_number)\n",
    "pca_0009.fit(X_0009)\n",
    "\n",
    "\n",
    "X_0010 = hk_0010[features]\n",
    "pca_number = 13\n",
    "pca_0010 = PCA(n_components=pca_number)\n",
    "pca_0010.fit(X_0010)"
   ]
  },
  {
   "cell_type": "code",
   "execution_count": 1099,
   "metadata": {},
   "outputs": [],
   "source": [
    "features = ['Mkt-RF','SMB','HML','RMW','CMA','MACD','MACDH','ADX','RSI','BB','ATR','EFI','Volume']\n",
    "target = ['Return-RF']\n",
    "\n",
    "X_0001 = hk_0001[features]\n",
    "X_transform_0001 = pca_0001.transform(X_0001)\n",
    "\n",
    "X_0002 = hk_0002[features]\n",
    "X_transform_0002 = pca_0002.transform(X_0002)\n",
    "\n",
    "X_0003 = hk_0003[features]\n",
    "X_transform_0003 = pca_0003.transform(X_0003)\n",
    "\n",
    "X_0004 = hk_0004[features]\n",
    "X_transform_0004 = pca_0004.transform(X_0004)\n",
    "\n",
    "X_0005 = hk_0005[features]\n",
    "X_transform_0005 = pca_0005.transform(X_0005)\n",
    "\n",
    "X_0006 = hk_0006[features]\n",
    "X_transform_0006 = pca_0006.transform(X_0006)\n",
    "\n",
    "X_0007 = hk_0007[features]\n",
    "X_transform_0007 = pca_0007.transform(X_0007)\n",
    "\n",
    "X_0008 = hk_0008[features]\n",
    "X_transform_0008 = pca_0008.transform(X_0008)\n",
    "\n",
    "\n",
    "X_0009 = hk_0009[features]\n",
    "X_transform_0009 = pca_0009.transform(X_0009)\n",
    "\n",
    "\n",
    "X_0010 = hk_0010[features]\n",
    "X_transform_0010 = pca_0010.transform(X_0010)\n"
   ]
  },
  {
   "cell_type": "code",
   "execution_count": 1100,
   "metadata": {},
   "outputs": [],
   "source": [
    "hk_0001.drop(columns = features, inplace=True)\n",
    "hk_0002.drop(columns = features, inplace=True)\n",
    "hk_0003.drop(columns = features, inplace=True)\n",
    "hk_0004.drop(columns = features, inplace=True)\n",
    "hk_0005.drop(columns = features, inplace=True)\n",
    "hk_0006.drop(columns = features, inplace=True)\n",
    "hk_0007.drop(columns = features, inplace=True)\n",
    "hk_0008.drop(columns = features, inplace=True)\n",
    "hk_0009.drop(columns = features, inplace=True)\n",
    "hk_0010.drop(columns = features, inplace=True)\n"
   ]
  },
  {
   "cell_type": "code",
   "execution_count": 1101,
   "metadata": {},
   "outputs": [],
   "source": [
    "features_0001 = []\n",
    "for i in range(X_transform_0001.shape[1]):\n",
    "    name = 'x' + str(i)\n",
    "    features_0001.append(name)\n",
    "\n",
    "features_0002 = []\n",
    "for i in range(X_transform_0002.shape[1]):\n",
    "    name = 'x' + str(i)\n",
    "    features_0002.append(name)\n",
    "\n",
    "features_0003 = []\n",
    "for i in range(X_transform_0003.shape[1]):\n",
    "    name = 'x' + str(i)\n",
    "    features_0003.append(name)\n",
    "    \n",
    "features_0004 = []\n",
    "for i in range(X_transform_0004.shape[1]):\n",
    "    name = 'x' + str(i)\n",
    "    features_0004.append(name)\n",
    "\n",
    "features_0005 = []\n",
    "for i in range(X_transform_0005.shape[1]):\n",
    "    name = 'x' + str(i)\n",
    "    features_0005.append(name)\n",
    "\n",
    "features_0006 = []\n",
    "for i in range(X_transform_0006.shape[1]):\n",
    "    name = 'x' + str(i)\n",
    "    features_0006.append(name)\n",
    "    \n",
    "features_0007 = []\n",
    "for i in range(X_transform_0007.shape[1]):\n",
    "    name = 'x' + str(i)\n",
    "    features_0007.append(name)\n",
    "\n",
    "    \n",
    "features_0008 = []\n",
    "for i in range(X_transform_0008.shape[1]):\n",
    "    name = 'x' + str(i)\n",
    "    features_0008.append(name)\n",
    "\n",
    "\n",
    "features_0009 = []\n",
    "for i in range(X_transform_0009.shape[1]):\n",
    "    name = 'x' + str(i)\n",
    "    features_0009.append(name)\n",
    "\n",
    "\n",
    "features_0010 = []\n",
    "for i in range(X_transform_0010.shape[1]):\n",
    "    name = 'x' + str(i)\n",
    "    features_0010.append(name)\n",
    "   "
   ]
  },
  {
   "cell_type": "code",
   "execution_count": 1102,
   "metadata": {},
   "outputs": [],
   "source": [
    "for idx, i in enumerate(features_0001):\n",
    "    hk_0001[i] = X_transform_0001[:,idx]\n",
    "\n",
    "for idx, i in enumerate(features_0002):\n",
    "    hk_0002[i] = X_transform_0002[:,idx]\n",
    "    \n",
    "for idx, i in enumerate(features_0003):\n",
    "    hk_0003[i] = X_transform_0003[:,idx]\n",
    "    \n",
    "for idx, i in enumerate(features_0004):\n",
    "    hk_0004[i] = X_transform_0004[:,idx]\n",
    "\n",
    "for idx, i in enumerate(features_0005):\n",
    "    hk_0005[i] = X_transform_0005[:,idx]\n",
    "    \n",
    "for idx, i in enumerate(features_0006):\n",
    "    hk_0006[i] = X_transform_0006[:,idx]    \n",
    "\n",
    "for idx, i in enumerate(features_0007):\n",
    "    hk_0007[i] = X_transform_0007[:,idx]  \n",
    "    \n",
    "for idx, i in enumerate(features_0008):\n",
    "    hk_0008[i] = X_transform_0008[:,idx]\n",
    "\n",
    "for idx, i in enumerate(features_0009):\n",
    "    hk_0009[i] = X_transform_0009[:,idx]\n",
    "    \n",
    "for idx, i in enumerate(features_0010):\n",
    "    hk_0010[i] = X_transform_0010[:,idx]\n",
    "    "
   ]
  },
  {
   "cell_type": "code",
   "execution_count": 1103,
   "metadata": {},
   "outputs": [],
   "source": [
    "# pd.options.display.max_rows, pd.options.display.max_columns =len(features), 25\n",
    "\n",
    "# # VIF dataframe \n",
    "# vif_data = pd.DataFrame() \n",
    "# vif_data[\"feature\"] = hk_0008[features].columns\n",
    "  \n",
    "# # calculating VIF for each feature \n",
    "# vif_data[\"VIF\"] = [variance_inflation_factor(hk_0008[features].values, i) \n",
    "#                           for i in range(len(hk_0008[features].columns))] \n",
    "  \n",
    "# vif_data"
   ]
  },
  {
   "cell_type": "markdown",
   "metadata": {},
   "source": [
    "# Time Series Modeling, ARIMA (p,d,q) parameter analysis and estimation"
   ]
  },
  {
   "cell_type": "code",
   "execution_count": 1104,
   "metadata": {},
   "outputs": [],
   "source": [
    "# X = hk[features]\n",
    "# # X = pca.transform(X)\n",
    "# X"
   ]
  },
  {
   "cell_type": "code",
   "execution_count": 1105,
   "metadata": {},
   "outputs": [],
   "source": [
    "# fig, axs = plt.subplots(len(features), figsize=(15,30))\n",
    "# for idx, i in enumerate(features):\n",
    "#     axs[idx].plot(X[i])\n",
    "#     axs[idx].set_title(i)\n",
    "#     figsize=(15,10)\n",
    "\n",
    "# fig.tight_layout()\n",
    "# plt.show()"
   ]
  },
  {
   "cell_type": "code",
   "execution_count": 1106,
   "metadata": {},
   "outputs": [],
   "source": [
    "# from statsmodels.graphics.tsaplots import plot_acf\n",
    "# from statsmodels.graphics.tsaplots import plot_pacf\n",
    "# from matplotlib import pyplot\n",
    "\n",
    "# fig, axes = plt.subplots(len(features), 2, figsize=(15,30))\n",
    "\n",
    "# for idx, i in enumerate(features):\n",
    "#     plot_acf(X[i], lags=50, title = i + ' Autocorrelation', ax=axes[idx, 0])\n",
    "#     plot_pacf(X[i], lags=50, title = i +' Partial Autocorrelation', ax=axes[idx, 1])\n",
    "    \n",
    "# fig.tight_layout()\n",
    "# pyplot.show()"
   ]
  },
  {
   "cell_type": "markdown",
   "metadata": {},
   "source": [
    "## Workflow Demostration on feature-x2\n",
    "ARIMA(p,d,q) parameter analysis and estimation"
   ]
  },
  {
   "cell_type": "code",
   "execution_count": 1107,
   "metadata": {},
   "outputs": [],
   "source": [
    "# # Analysis on the d-term of ARIMA(p,d,q)\n",
    "# fig, axes = plt.subplots(3, 3, figsize=(30,20))\n",
    "# axes[0, 0].plot(X['x2']); axes[0, 0].set_title('(x2) Original Series')\n",
    "# plot_acf(X['x2'], lags=50, ax=axes[0, 1])\n",
    "# plot_pacf(X['x2'], lags=50, ax=axes[0, 2])\n",
    "\n",
    "# # 1st Differencing\n",
    "# axes[1, 0].plot(X['x2'].diff()); axes[1, 0].set_title('(x2) 1st Order Differencing')\n",
    "# plot_acf(X['x2'].diff().dropna(), lags=50, ax=axes[1, 1])\n",
    "# plot_pacf(X['x2'].diff().dropna(), lags=50, ax=axes[1, 2])\n",
    "\n",
    "# # 2nd Differencing\n",
    "# axes[2, 0].plot(X['x2'].diff().diff()); axes[2, 0].set_title('(x2) 2nd Order Differencing')\n",
    "# plot_acf(X['x2'].diff().diff().dropna(), lags=50, ax=axes[2, 1])\n",
    "# plot_pacf(X['x2'].diff().diff().dropna(), lags=50, ax=axes[2, 2])\n",
    "\n",
    "# plt.show()"
   ]
  },
  {
   "cell_type": "code",
   "execution_count": 1108,
   "metadata": {},
   "outputs": [],
   "source": [
    "# # estimate the d-term of ARIMA(p,d,q)\n",
    "# import pmdarima\n",
    "# from pmdarima.arima.utils import ndiffs\n",
    "\n",
    "\n",
    "# ## Adf Test\n",
    "# print('ADF: ', ndiffs(X['x2'], test='adf'))\n",
    "\n",
    "# # KPSS test\n",
    "# print('KPSS: ', ndiffs(X['x2'], test='kpss') )\n",
    "\n",
    "# # PP test:\n",
    "# print('PP: ',ndiffs(X['x2'], test='pp'))"
   ]
  },
  {
   "cell_type": "code",
   "execution_count": 1109,
   "metadata": {},
   "outputs": [],
   "source": [
    "# # estimate the p,d,q-term of ARIMA(p,d,q)\n",
    "# arima_order = pmdarima.arima.auto_arima(X['x2'])\n",
    "# arima_order"
   ]
  },
  {
   "cell_type": "code",
   "execution_count": 1110,
   "metadata": {},
   "outputs": [],
   "source": [
    "# model = pmdarima.arima.AutoARIMA()\n",
    "# model_fit = model.fit(X['x2'])\n",
    "# model_predict = model_fit.predict_in_sample(X['x2'])\n",
    "# model_fit.summary()"
   ]
  },
  {
   "cell_type": "code",
   "execution_count": 1111,
   "metadata": {},
   "outputs": [],
   "source": [
    "# # Plot residual errors of the ARIMA model\n",
    "# residuals = pd.DataFrame(model_predict - X['x2'])\n",
    "# fig, ax = plt.subplots(2, 1, figsize=(15,20))\n",
    "# ax[0].set_title('residuals')\n",
    "# ax[0].plot(residuals)\n",
    "# ax[1].set_title('Density distribution of residuals')\n",
    "# sns.distplot(residuals, ax=ax[1])"
   ]
  },
  {
   "cell_type": "markdown",
   "metadata": {},
   "source": [
    "The residual errors seem fine with near zero mean and normal distributed. Let’s plot the actuals against the fitted values using plot_predict()."
   ]
  },
  {
   "cell_type": "code",
   "execution_count": 1112,
   "metadata": {},
   "outputs": [],
   "source": [
    "# # Actual vs Fitted\n",
    "# plt.figure(figsize=(20,10))\n",
    "# plt.plot(X['x2'].index, X['x2'], label='x2')\n",
    "# plt.plot(X['x2'].index, model_predict, label='ARIMA')\n",
    "# plt.legend(loc='upper left', fontsize=12)"
   ]
  },
  {
   "cell_type": "markdown",
   "metadata": {},
   "source": [
    "The code below use a different library - statsmodels"
   ]
  },
  {
   "cell_type": "code",
   "execution_count": 1113,
   "metadata": {},
   "outputs": [],
   "source": [
    "# from statsmodels.tsa.arima_model import ARIMA\n",
    "# model = ARIMA(X['x6'], order=(1,0,1))\n",
    "# model_fit = model.fit(disp=0)\n",
    "# print(model_fit.summary())\n"
   ]
  },
  {
   "cell_type": "code",
   "execution_count": 1114,
   "metadata": {},
   "outputs": [],
   "source": [
    "# # Plot residual errors of the ARIMA model\n",
    "# residuals = pd.DataFrame(model_fit.resid)\n",
    "# fig, ax = plt.subplots(2, 1, figsize=(15,20))\n",
    "# ax[0].set_title('residuals')\n",
    "# ax[0].plot(residuals)\n",
    "# ax[1].set_title('Density distribution of residuals')\n",
    "# sns.distplot(residuals, ax=ax[1])"
   ]
  },
  {
   "cell_type": "code",
   "execution_count": 1115,
   "metadata": {},
   "outputs": [],
   "source": [
    "# # Actual vs Fitted\n",
    "# plt.figure(figsize=(20,10))\n",
    "# plt.plot(X['x6'], label='x6')\n",
    "# plt.plot(model_fit.predict(), label='ARIMA')\n",
    "# plt.legend(loc='upper left', fontsize=12)"
   ]
  },
  {
   "cell_type": "code",
   "execution_count": null,
   "metadata": {},
   "outputs": [],
   "source": []
  },
  {
   "cell_type": "markdown",
   "metadata": {},
   "source": [
    "# ARIMA modeling on all features"
   ]
  },
  {
   "cell_type": "code",
   "execution_count": 1116,
   "metadata": {},
   "outputs": [],
   "source": [
    "X_0001 = hk_0008[features_0001]\n",
    "X_0002 = hk_0009[features_0002]\n",
    "X_0003 = hk_0003[features_0003]\n",
    "X_0004 = hk_0004[features_0004]\n",
    "X_0005 = hk_0005[features_0005]\n",
    "X_0006 = hk_0006[features_0006]\n",
    "X_0007 = hk_0007[features_0007]\n",
    "X_0008 = hk_0008[features_0008]\n",
    "X_0009 = hk_0009[features_0009]\n",
    "X_0010 = hk_0010[features_0010]\n",
    "\n"
   ]
  },
  {
   "cell_type": "code",
   "execution_count": 1117,
   "metadata": {},
   "outputs": [],
   "source": [
    "for i in features_0001:\n",
    "    model = pmdarima.arima.AutoARIMA()\n",
    "    model_fit = model.fit(X_0001[i])\n",
    "    model_predict = model_fit.predict_in_sample(X_0001[i])\n",
    "    X_0001[i] = model_predict\n",
    "\n",
    "for i in features_0002:\n",
    "    model = pmdarima.arima.AutoARIMA()\n",
    "    model_fit = model.fit(X_0002[i])\n",
    "    model_predict = model_fit.predict_in_sample(X_0002[i])\n",
    "    X_0002[i] = model_predict\n",
    "    \n",
    "for i in features_0003:\n",
    "    model = pmdarima.arima.AutoARIMA()\n",
    "    model_fit = model.fit(X_0003[i])\n",
    "    model_predict = model_fit.predict_in_sample(X_0003[i])\n",
    "    X_0003[i] = model_predict\n",
    "    \n",
    "for i in features_0004:\n",
    "    model = pmdarima.arima.AutoARIMA()\n",
    "    model_fit = model.fit(X_0004[i])\n",
    "    model_predict = model_fit.predict_in_sample(X_0004[i])\n",
    "    X_0004[i] = model_predict\n",
    "\n",
    "for i in features_0005:\n",
    "    model = pmdarima.arima.AutoARIMA()\n",
    "    model_fit = model.fit(X_0005[i])\n",
    "    model_predict = model_fit.predict_in_sample(X_0005[i])\n",
    "    X_0005[i] = model_predict\n",
    "    \n",
    "for i in features_0006:\n",
    "    model = pmdarima.arima.AutoARIMA()\n",
    "    model_fit = model.fit(X_0006[i])\n",
    "    model_predict = model_fit.predict_in_sample(X_0006[i])\n",
    "    X_0006[i] = model_predict\n",
    "    \n",
    "for i in features_0007:\n",
    "    model = pmdarima.arima.AutoARIMA()\n",
    "    model_fit = model.fit(X_0007[i])\n",
    "    model_predict = model_fit.predict_in_sample(X_0007[i])\n",
    "    X_0007[i] = model_predict\n",
    "\n",
    "for i in features_0008:\n",
    "    model = pmdarima.arima.AutoARIMA()\n",
    "    model_fit = model.fit(X_0008[i])\n",
    "    model_predict = model_fit.predict_in_sample(X_0008[i])\n",
    "    X_0008[i] = model_predict\n",
    "    \n",
    "for i in features_0009:\n",
    "    model = pmdarima.arima.AutoARIMA()\n",
    "    model_fit = model.fit(X_0009[i])\n",
    "    model_predict = model_fit.predict_in_sample(X_0009[i])\n",
    "    X_0009[i] = model_predict\n",
    "    \n",
    "for i in features_0010:\n",
    "    model = pmdarima.arima.AutoARIMA()\n",
    "    model_fit = model.fit(X_0010[i])\n",
    "    model_predict = model_fit.predict_in_sample(X_0010[i])\n",
    "    X_0010[i] = model_predict"
   ]
  },
  {
   "cell_type": "code",
   "execution_count": 1118,
   "metadata": {},
   "outputs": [],
   "source": [
    "new_features_0001 = []\n",
    "for i in features_0001:\n",
    "    if np.all(X_0001[i] == 0):\n",
    "        pass\n",
    "    else:\n",
    "        new_features_0001.append(i)\n",
    "        \n",
    "features_0001 = new_features_0001.copy()\n",
    "\n",
    "\n",
    "new_features_0002 = []\n",
    "for i in features_0002:\n",
    "    if np.all(X_0002[i] == 0):\n",
    "        pass\n",
    "    else:\n",
    "        new_features_0002.append(i)\n",
    "        \n",
    "features_0002 = new_features_0002.copy()\n",
    "\n",
    "\n",
    "new_features_0003 = []\n",
    "for i in features_0003:\n",
    "    if np.all(X_0003[i] == 0):\n",
    "        pass\n",
    "    else:\n",
    "        new_features_0003.append(i)\n",
    "        \n",
    "features_0003 = new_features_0003.copy()\n",
    "\n",
    "\n",
    "new_features_0004 = []\n",
    "for i in features_0004:\n",
    "    if np.all(X_0004[i] == 0):\n",
    "        pass\n",
    "    else:\n",
    "        new_features_0004.append(i)\n",
    "        \n",
    "features_0004 = new_features_0004.copy()\n",
    "\n",
    "\n",
    "new_features_0005 = []\n",
    "for i in features_0005:\n",
    "    if np.all(X_0005[i] == 0):\n",
    "        pass\n",
    "    else:\n",
    "        new_features_0005.append(i)\n",
    "        \n",
    "features_0005 = new_features_0005.copy()\n",
    "\n",
    "\n",
    "new_features_0006 = []\n",
    "for i in features_0006:\n",
    "    if np.all(X_0006[i] == 0):\n",
    "        pass\n",
    "    else:\n",
    "        new_features_0006.append(i)\n",
    "        \n",
    "features_0006 = new_features_0006.copy()\n",
    "\n",
    "\n",
    "new_features_0007 = []\n",
    "for i in features_0007:\n",
    "    if np.all(X_0007[i] == 0):\n",
    "        pass\n",
    "    else:\n",
    "        new_features_0007.append(i)\n",
    "        \n",
    "features_0007 = new_features_0007.copy()\n",
    "\n",
    "\n",
    "new_features_0008 = []\n",
    "for i in features_0008:\n",
    "    if np.all(X_0008[i] == 0):\n",
    "        pass\n",
    "    else:\n",
    "        new_features_0008.append(i)\n",
    "        \n",
    "features_0008 = new_features_0008.copy()\n",
    "\n",
    "\n",
    "new_features_0009 = []\n",
    "for i in features_0009:\n",
    "    if np.all(X_0009[i] == 0):\n",
    "        pass\n",
    "    else:\n",
    "        new_features_0009.append(i)\n",
    "        \n",
    "features_0009 = new_features_0009.copy()\n",
    "\n",
    "\n",
    "new_features_0010 = []\n",
    "for i in features_0010:\n",
    "    if np.all(X_0010[i] == 0):\n",
    "        pass\n",
    "    else:\n",
    "        new_features_0010.append(i)\n",
    "        \n",
    "features_0010 = new_features_0010.copy()"
   ]
  },
  {
   "cell_type": "code",
   "execution_count": 1119,
   "metadata": {},
   "outputs": [],
   "source": [
    "for i in features_0001:\n",
    "    hk_0001[i] = X_0001[i]\n",
    "\n",
    "for i in features_0002:\n",
    "    hk_0002[i] = X_0002[i]\n",
    "    \n",
    "for i in features_0003:\n",
    "    hk_0003[i] = X_0003[i]\n",
    "    \n",
    "for i in features_0004:\n",
    "    hk_0004[i] = X_0004[i]\n",
    "\n",
    "for i in features_0005:\n",
    "    hk_0005[i] = X_0005[i]\n",
    "    \n",
    "for i in features_0006:\n",
    "    hk_0006[i] = X_0006[i]\n",
    "    \n",
    "for i in features_0007:\n",
    "    hk_0007[i] = X_0007[i]\n",
    "\n",
    "for i in features_0008:\n",
    "    hk_0008[i] = X_0008[i]\n",
    "\n",
    "for i in features_0009:\n",
    "    hk_0009[i] = X_0008[i]\n",
    "    \n",
    "for i in features_0010:\n",
    "    hk_0010[i] = X_0009[i]\n",
    "    \n"
   ]
  },
  {
   "cell_type": "code",
   "execution_count": 1120,
   "metadata": {},
   "outputs": [],
   "source": [
    "# target = ['Return-RF']\n",
    "\n",
    "# X = hk_0008[features]\n",
    "# Y = hk_0008[target]\n",
    "\n",
    "\n",
    "# model = linear_model.LinearRegression()\n",
    "# model.fit(X, Y)\n",
    "# Y_Pred = model.predict(X) \n"
   ]
  },
  {
   "cell_type": "code",
   "execution_count": 1121,
   "metadata": {},
   "outputs": [],
   "source": [
    "# r2_score(Y, Y_Pred)"
   ]
  },
  {
   "cell_type": "code",
   "execution_count": 1122,
   "metadata": {},
   "outputs": [],
   "source": [
    "# # Specify the matrices\n",
    "# X = sm.add_constant(hk_0008[features])\n",
    "# y = hk_0008[target]\n",
    "# lm4 = sm.OLS(y,X).fit()\n",
    "# # Show results\n",
    "# print(lm4.summary())"
   ]
  },
  {
   "cell_type": "code",
   "execution_count": 1123,
   "metadata": {},
   "outputs": [],
   "source": [
    "# hk_0008"
   ]
  },
  {
   "cell_type": "markdown",
   "metadata": {},
   "source": [
    "# Investment Analysis with Extended Factor Modeling (long short strategy with market timing)"
   ]
  },
  {
   "cell_type": "code",
   "execution_count": 1124,
   "metadata": {},
   "outputs": [
    {
     "data": {
      "text/plain": [
       "'\\n1) Greedy Algorithm + PnL Validation\\n2) Lasso Regression Algorithm + K-Fold Cross-Validation on PnL\\n3) Ridge Regression Algorithm + K-Fold Cross-Validation on PnL\\n4) Elastic Net Regression Algorithm + K-Fold Cross-Validation on PnL¶\\n5) Logistic Regression Algorithm (L2 Regularization) + K-Fold Cross-Validation on PnL\\n6) Support Vector Machine + K-Fold Cross-Validation on PnL\\n7) Random Forest + K-Fold Cross-Validation on PnL\\n'"
      ]
     },
     "execution_count": 1124,
     "metadata": {},
     "output_type": "execute_result"
    }
   ],
   "source": [
    "'''\n",
    "1) Greedy Algorithm + PnL Validation\n",
    "2) Lasso Regression Algorithm + K-Fold Cross-Validation on PnL\n",
    "3) Ridge Regression Algorithm + K-Fold Cross-Validation on PnL\n",
    "4) Elastic Net Regression Algorithm + K-Fold Cross-Validation on PnL¶\n",
    "5) Logistic Regression Algorithm (L2 Regularization) + K-Fold Cross-Validation on PnL\n",
    "6) Support Vector Machine + K-Fold Cross-Validation on PnL\n",
    "7) Random Forest + K-Fold Cross-Validation on PnL\n",
    "'''"
   ]
  },
  {
   "cell_type": "markdown",
   "metadata": {},
   "source": [
    "\n",
    "# Lasso Regression Algorithm + K-Fold Cross-Validation on PnL"
   ]
  },
  {
   "cell_type": "code",
   "execution_count": 1125,
   "metadata": {},
   "outputs": [],
   "source": [
    "\n",
    "target = ['Return-RF']"
   ]
  },
  {
   "cell_type": "code",
   "execution_count": 1126,
   "metadata": {},
   "outputs": [],
   "source": [
    "def r2(df):\n",
    "    r2 = r2_score(df['Return'], df['Predicted_Return'])\n",
    "    return r2"
   ]
  },
  {
   "cell_type": "code",
   "execution_count": 1127,
   "metadata": {},
   "outputs": [],
   "source": [
    "# compute Capital\n",
    "def computation(df):\n",
    "    for i in range(1,len(df)):\n",
    "        if i == 1:\n",
    "            df.loc[df.index[i],'Capital'] = 1\n",
    "        elif df.loc[df.index[i],'Predicted_Return']>=0:\n",
    "            df.loc[df.index[i],'Capital'] = df.loc[df.index[i-1],'Capital'] * (1 + df.loc[df.index[i],'Return'])\n",
    "        else:\n",
    "            df.loc[df.index[i],'Capital'] = df.loc[df.index[i-1],'Capital'] * (1 - df.loc[df.index[i],'Return'])\n",
    "    return df"
   ]
  },
  {
   "cell_type": "code",
   "execution_count": 1128,
   "metadata": {},
   "outputs": [],
   "source": [
    "def r2_Lasso(x_train, y_train, x_valid, y_valid, lamb):\n",
    "\n",
    "    \n",
    "    # create a linear model\n",
    "    X_train = x_train\n",
    "    Y_train = y_train\n",
    "    X_valid = x_valid\n",
    "    Y_valid = y_valid\n",
    "    \n",
    "    model = linear_model.Lasso(alpha = lamb)\n",
    "    model.fit(X_train, Y_train)\n",
    "    Y_valid_fit = model.predict(X_valid)   \n",
    "\n",
    "    # a data frame for computing and saving long_short value\n",
    "    long_short_df = pd.DataFrame({'Return': Y_valid.iloc[:,0].values,\n",
    "                                  'Predicted_Return': Y_valid_fit.reshape(1,-1)[0].tolist(),\n",
    "                                  'Capital': np.zeros(len(Y_valid))},\n",
    "                                 index = Y_valid.index)\n",
    "    \n",
    "    cols = ['Return', 'Predicted_Return', 'Capital']\n",
    "    long_short_df = long_short_df[cols]\n",
    "    \n",
    "    # give an initial point\n",
    "    initial = pd.DataFrame(np.array([0,0,1]).reshape(-1,3),\n",
    "                       columns = long_short_df.columns)\n",
    "\n",
    "    # combine df and initial point\n",
    "    long_short_df = pd.concat([initial, long_short_df])\n",
    "\n",
    "    # compute long_short value\n",
    "    long_short_df_final = r2(long_short_df)\n",
    "    \n",
    "    \n",
    "\n",
    "    # return final long_short value of this period\n",
    "    return long_short_df_final"
   ]
  },
  {
   "cell_type": "code",
   "execution_count": 1129,
   "metadata": {},
   "outputs": [],
   "source": [
    "# Build a general function that can perform k-fold Cross Validation on ONE model\n",
    "# Data: a subset of feature columns plus the target column\n",
    "# Target: the name of the target column\n",
    "# n: cut data into n pieces\n",
    "\n",
    "def kfold_Lasso(data, target, n, lamb, features):\n",
    "    # We need a vector to record mse from k-fold\n",
    "    r2 = np.array([]) \n",
    "    \n",
    "    # KFold is a build-in function in Scikit-learn\n",
    "    #    it can help us cut data into n pieces \n",
    "    #    (compare with simple cross validation)\n",
    "    kf = KFold(n_splits = n)\n",
    "    \n",
    "    \n",
    "    \n",
    "    for train_index, validation_index in kf.split(data):\n",
    "\n",
    "        # obtain the train and validation part\n",
    "        train, valid = data.iloc[train_index,:], data.iloc[validation_index,:]\n",
    "        \n",
    "        # extract X and Y to be fit in a model\n",
    "        X_train = train[features]\n",
    "        Y_train = train[target]        \n",
    "        X_valid = valid[features]\n",
    "        Y_valid = valid[target]\n",
    "    \n",
    "        # Calculate r2\n",
    "        r2_temp = r2_Lasso(X_train, Y_train, X_valid, Y_valid, lamb)\n",
    "        r2 = np.append(r2, r2_temp)\n",
    "        \n",
    "\n",
    "        \n",
    "    return r2.mean()"
   ]
  },
  {
   "cell_type": "markdown",
   "metadata": {},
   "source": [
    "### 10 Year Investment"
   ]
  },
  {
   "cell_type": "code",
   "execution_count": 1130,
   "metadata": {},
   "outputs": [
    {
     "data": {
      "text/plain": [
       "1"
      ]
     },
     "execution_count": 1130,
     "metadata": {},
     "output_type": "execute_result"
    }
   ],
   "source": [
    "fix_history_length = 100  # 2~1 Year\n",
    "fix_test_length = 55 # 10 Year\n",
    "sample_size = 1\n",
    "\n",
    "# the range of t\n",
    "randomRange = len(hk_0001)-fix_history_length-fix_test_length\n",
    "randomRange"
   ]
  },
  {
   "cell_type": "code",
   "execution_count": 1131,
   "metadata": {},
   "outputs": [],
   "source": [
    "def backtest_lasso(stock, features):\n",
    "    \n",
    "    # an array for saving 50 final best profit\n",
    "    lambda_list = np.array([1e-8, 1e-7, 1e-6, 1e-5, 1e-4])\n",
    "    profit_final = np.array([])\n",
    "    model_coef = np.zeros((stock.shape[1],sample_size))\n",
    "\n",
    "    for i in range(sample_size):\n",
    "\n",
    "        r2_lasso = np.array([])\n",
    "        np.random.seed(i)\n",
    "        random_Num =  np.random.randint(randomRange)\n",
    "        BeginTime = random_Num  \n",
    "        timestamp = fix_history_length + random_Num\n",
    "        EndTime = timestamp + fix_test_length\n",
    "\n",
    "        # use BeginTime and EndTime to filter test and train_valid\n",
    "        train_valid = stock.iloc[BeginTime:timestamp, : ]\n",
    "        test = stock.iloc[timestamp:EndTime, : ]\n",
    "\n",
    "        for lamb in lambda_list:\n",
    "            r2_lasso = np.append(r2_lasso, kfold_Lasso(train_valid, target, 10, lamb, features))\n",
    "\n",
    "        lambda_selected_lasso = lambda_list[r2_lasso.argmin()]\n",
    "\n",
    "        print('lambda_selected',lambda_selected_lasso)\n",
    "\n",
    "        X_cv = train_valid[features]\n",
    "        Y_cv = train_valid[target]\n",
    "\n",
    "        X_test_cv = test[features]\n",
    "        Y_test_cv = test[target]\n",
    "\n",
    "\n",
    "        model_cv = linear_model.Lasso(alpha = lambda_selected_lasso)\n",
    "        model_cv.fit(X_cv, Y_cv)\n",
    "\n",
    "        Y_test_cv_fit = model_cv.predict(X_test_cv)\n",
    "\n",
    "        long_short_df = pd.DataFrame({'Return': Y_test_cv.values.reshape(1,-1)[0].tolist(),\n",
    "                                      'Predicted_Return': Y_test_cv_fit.reshape(1,-1)[0].tolist(),\n",
    "                                      'Capital': np.zeros(len(Y_test_cv))},\n",
    "                                     index = Y_test_cv.index)\n",
    "\n",
    "        cols = ['Return', 'Predicted_Return', 'Capital']\n",
    "        long_short_df = long_short_df[cols]\n",
    "\n",
    "        initial = pd.DataFrame(np.array([0,0,1]).reshape(-1,3), \n",
    "                               columns = long_short_df.columns)\n",
    "        long_short_df = pd.concat([initial, long_short_df])\n",
    "        long_short_df_final = computation(long_short_df)\n",
    "\n",
    "\n",
    "        profit_final = np.append(profit_final,long_short_df_final.iloc[-1,2])\n",
    "\n",
    "#         for j in range(len(model_cv.coef_)):\n",
    "#             model_coef[j][i] = model_cv.coef_[j]\n",
    "\n",
    "#     for i in range(len(model_cv.coef_)):\n",
    "#         print(i,' feature coef = ', model_coef[i].mean())\n",
    "\n",
    "\n",
    "\n",
    "#     profit_final = (profit_final - 1)*100\n",
    "\n",
    "#     print('Returns :')\n",
    "#     for idx, num in enumerate(profit_final):\n",
    "#         print(round(profit_final[idx]), end='%, ')\n",
    "\n",
    "#     print('Maximum Return: ', np.around(max(profit_final)))\n",
    "#     print('Minimum Return: ', np.around(min(profit_final)))\n",
    "#     print('Average Return: ', np.around(profit_final.mean()))\n",
    "#     print('Standard Deviation: ', np.around(profit_final.std()))\n",
    "#     print(\"320 training days\")\n",
    "#     print(\"80 validation days\")\n",
    "#     print(\"100 test days\")\n",
    "    \n",
    "    return long_short_df_final"
   ]
  },
  {
   "cell_type": "code",
   "execution_count": 1132,
   "metadata": {},
   "outputs": [
    {
     "name": "stdout",
     "output_type": "stream",
     "text": [
      "lambda_selected 1e-08\n",
      "lambda_selected 0.0001\n",
      "lambda_selected 1e-08\n",
      "lambda_selected 1e-08\n",
      "lambda_selected 1e-08\n",
      "lambda_selected 1e-08\n",
      "lambda_selected 1e-08\n",
      "lambda_selected 1e-08\n",
      "lambda_selected 1e-08\n",
      "lambda_selected 1e-08\n"
     ]
    }
   ],
   "source": [
    "backtest_lasso_0001 = backtest_lasso(hk_0001, features_0001)\n",
    "backtest_lasso_0002 = backtest_lasso(hk_0002, features_0002)\n",
    "backtest_lasso_0003 = backtest_lasso(hk_0003, features_0003)\n",
    "backtest_lasso_0004 = backtest_lasso(hk_0004, features_0004)\n",
    "backtest_lasso_0005 = backtest_lasso(hk_0005, features_0005)\n",
    "backtest_lasso_0006 = backtest_lasso(hk_0006, features_0006)\n",
    "backtest_lasso_0007 = backtest_lasso(hk_0007, features_0007)\n",
    "backtest_lasso_0008 = backtest_lasso(hk_0008, features_0008)\n",
    "backtest_lasso_0009 = backtest_lasso(hk_0009, features_0009)\n",
    "backtest_lasso_0010 = backtest_lasso(hk_0010, features_0010)"
   ]
  },
  {
   "cell_type": "code",
   "execution_count": 1133,
   "metadata": {},
   "outputs": [
    {
     "name": "stdout",
     "output_type": "stream",
     "text": [
      "r2_0001 = -0.37113383885625084\n",
      "r2_0002 = -0.1907707273960597\n",
      "r2_0003 = 0.07884579742090436\n",
      "r2_0004 = -0.30517789487695324\n",
      "r2_0005 = 0.04334156404689771\n",
      "r2_0006 = -0.39007958417153055\n",
      "r2_0007 = -1.2148722566402266\n",
      "r2_0008 = -0.10354654426794241\n",
      "r2_0009 = -0.33944449331254045\n",
      "r2_0010 = -0.032794862582986584\n"
     ]
    }
   ],
   "source": [
    "print('r2_0001 =', r2_score(backtest_lasso_0001['Return'], backtest_lasso_0001['Predicted_Return']))\n",
    "print('r2_0002 =', r2_score(backtest_lasso_0002['Return'], backtest_lasso_0002['Predicted_Return']))\n",
    "print('r2_0003 =', r2_score(backtest_lasso_0003['Return'], backtest_lasso_0003['Predicted_Return']))\n",
    "print('r2_0004 =', r2_score(backtest_lasso_0004['Return'], backtest_lasso_0004['Predicted_Return']))\n",
    "print('r2_0005 =', r2_score(backtest_lasso_0005['Return'], backtest_lasso_0005['Predicted_Return']))\n",
    "print('r2_0006 =', r2_score(backtest_lasso_0006['Return'], backtest_lasso_0006['Predicted_Return']))\n",
    "print('r2_0007 =', r2_score(backtest_lasso_0007['Return'], backtest_lasso_0007['Predicted_Return']))\n",
    "print('r2_0008 =', r2_score(backtest_lasso_0008['Return'], backtest_lasso_0008['Predicted_Return']))\n",
    "print('r2_0009 =', r2_score(backtest_lasso_0009['Return'], backtest_lasso_0009['Predicted_Return']))\n",
    "print('r2_0010 =', r2_score(backtest_lasso_0010['Return'], backtest_lasso_0010['Predicted_Return']))\n",
    "\n"
   ]
  },
  {
   "cell_type": "code",
   "execution_count": 1134,
   "metadata": {},
   "outputs": [],
   "source": [
    "portfolio_lasso = 1/10 * (backtest_lasso_0001['Capital'] + backtest_lasso_0002['Capital'] + backtest_lasso_0003['Capital'] +backtest_lasso_0004['Capital'] + backtest_lasso_0005['Capital'] + backtest_lasso_0006['Capital'] + backtest_lasso_0007['Capital'] + backtest_lasso_0008['Capital'] + backtest_lasso_0009['Capital'] + backtest_lasso_0010['Capital'])\n"
   ]
  },
  {
   "cell_type": "code",
   "execution_count": 1135,
   "metadata": {},
   "outputs": [
    {
     "data": {
      "text/plain": [
       "<matplotlib.legend.Legend at 0x142e57c50>"
      ]
     },
     "execution_count": 1135,
     "metadata": {},
     "output_type": "execute_result"
    },
    {
     "data": {
      "image/png": "[encoded data removed]",
      "text/plain": [
       "<Figure size 1008x504 with 1 Axes>"
      ]
     },
     "metadata": {},
     "output_type": "display_data"
    }
   ],
   "source": [
    "# seed is the same at 0 \n",
    "np.random.seed(0)\n",
    "random_Num =  np.random.randint(randomRange)\n",
    "BeginTime = random_Num\n",
    "timestamp = fix_history_length + random_Num\n",
    "EndTime = timestamp + fix_test_length\n",
    "\n",
    "plt.figure(figsize=(14, 7))\n",
    "# plt.plot(hk_0008['Close'][timestamp:EndTime] / hk_0008['Close'][timestamp], label = \"Long-only\")\n",
    "plt.plot(portfolio_lasso[1:], lw=2, label='Lasso-model')\n",
    "plt.xlabel('Time')\n",
    "plt.ylabel('Captical')\n",
    "plt.title(\"10 year backtest\")\n",
    "plt.legend(loc='upper left', fontsize=12)"
   ]
  },
  {
   "cell_type": "markdown",
   "metadata": {},
   "source": [
    "# Random Forest + K-Fold Cross-Validation on PnL"
   ]
  },
  {
   "cell_type": "code",
   "execution_count": 1136,
   "metadata": {},
   "outputs": [],
   "source": [
    "target = ['Return-RF']"
   ]
  },
  {
   "cell_type": "code",
   "execution_count": 1137,
   "metadata": {},
   "outputs": [],
   "source": [
    "def r2(df):\n",
    "    r2 = r2_score(df['Return'], df['Predicted_Return'])\n",
    "    return r2"
   ]
  },
  {
   "cell_type": "code",
   "execution_count": 1138,
   "metadata": {},
   "outputs": [],
   "source": [
    "# compute Capital\n",
    "def computation(df):\n",
    "    for i in range(1,len(df)):\n",
    "        if i == 1:\n",
    "            df.loc[df.index[i],'Capital'] = 1\n",
    "        elif df.loc[df.index[i],'Predicted_Return']>=0:\n",
    "            df.loc[df.index[i],'Capital'] = df.loc[df.index[i-1],'Capital'] * (1 + df.loc[df.index[i],'Return'])\n",
    "        else:\n",
    "            df.loc[df.index[i],'Capital'] = df.loc[df.index[i-1],'Capital'] * (1 - df.loc[df.index[i],'Return'])\n",
    "    return df"
   ]
  },
  {
   "cell_type": "code",
   "execution_count": 1139,
   "metadata": {},
   "outputs": [],
   "source": [
    "def Random_Forest(x_train, y_train, x_valid, y_valid, depth):\n",
    "\n",
    "    \n",
    "    X_train = x_train\n",
    "    Y_train = y_train\n",
    "    X_valid = x_valid\n",
    "    Y_valid = y_valid\n",
    "    \n",
    "    model = RandomForestRegressor(max_depth=depth)\n",
    "    model.fit(X_train, Y_train)\n",
    "    Y_valid_fit = model.predict(X_valid)   \n",
    "\n",
    "    # a data frame for computing and saving long_short value\n",
    "    long_short_df = pd.DataFrame({'Return': Y_valid.iloc[:,0].values,\n",
    "                                  'Predicted_Return': Y_valid_fit.reshape(1,-1)[0].tolist(),\n",
    "                                  'Capital': np.zeros(len(Y_valid))},\n",
    "                                 index = Y_valid.index)\n",
    "    \n",
    "    cols = ['Return', 'Predicted_Return', 'Capital']\n",
    "    long_short_df = long_short_df[cols]\n",
    "    \n",
    "    # give an initial point\n",
    "    initial = pd.DataFrame(np.array([0,0,1]).reshape(-1,3),\n",
    "                       columns = long_short_df.columns)\n",
    "\n",
    "    # combine df and initial point\n",
    "    long_short_df = pd.concat([initial, long_short_df])\n",
    "\n",
    "    # compute long_short value\n",
    "    long_short_df_final = computation(long_short_df)\n",
    "    \n",
    "    \n",
    "\n",
    "    # return final long_short value of this period\n",
    "    return long_short_df_final"
   ]
  },
  {
   "cell_type": "code",
   "execution_count": 1140,
   "metadata": {},
   "outputs": [],
   "source": [
    "# Build a general function that can perform k-fold Cross Validation on ONE model\n",
    "# Data: a subset of feature columns plus the target column\n",
    "# Target: the name of the target column\n",
    "# n: cut data into n pieces\n",
    "\n",
    "def kfold_randomForest(data, target, n, depth, features):\n",
    "    # We need a vector to record mse from k-fold\n",
    "    r2 = np.array([]) \n",
    "    \n",
    "    # KFold is a build-in function in Scikit-learn\n",
    "    #    it can help us cut data into n pieces \n",
    "    #    (compare with simple cross validation)\n",
    "    kf = KFold(n_splits = n)\n",
    "    \n",
    "    \n",
    "    \n",
    "    for train_index, validation_index in kf.split(data):\n",
    "\n",
    "        # obtain the train and validation part\n",
    "        train, valid = data.iloc[train_index,:], data.iloc[validation_index,:]\n",
    "        \n",
    "        # extract X and Y to be fit in a model\n",
    "        X_train = train[features]\n",
    "        Y_train = train[target]        \n",
    "        X_valid = valid[features]\n",
    "        Y_valid = valid[target]\n",
    "    \n",
    "        # Calculate r2\n",
    "        r2_temp = Random_Forest(X_train, Y_train, X_valid, Y_valid, depth)\n",
    "        r2 = np.append(r2, r2_temp)\n",
    "        \n",
    "\n",
    "        \n",
    "    return r2.mean()"
   ]
  },
  {
   "cell_type": "markdown",
   "metadata": {},
   "source": [
    "### 10 Year investment"
   ]
  },
  {
   "cell_type": "code",
   "execution_count": 1141,
   "metadata": {},
   "outputs": [
    {
     "data": {
      "text/plain": [
       "1"
      ]
     },
     "execution_count": 1141,
     "metadata": {},
     "output_type": "execute_result"
    }
   ],
   "source": [
    "fix_history_length = 100  # 2~1 Year\n",
    "fix_test_length = 55 # 10 Year\n",
    "sample_size = 1\n",
    "\n",
    "# the range of t\n",
    "randomRange = len(hk_0001)-fix_history_length-fix_test_length\n",
    "randomRange"
   ]
  },
  {
   "cell_type": "code",
   "execution_count": 1142,
   "metadata": {},
   "outputs": [],
   "source": [
    "def backtest_random_forest(stock, features):\n",
    "    \n",
    "    # an array for saving 50 final best profit\n",
    "    depth_list = np.array([2,5,15])\n",
    "    profit_final = np.array([])\n",
    "    model_coef = np.zeros((stock.shape[1],sample_size))\n",
    "\n",
    "    for i in range(sample_size):\n",
    "\n",
    "        random_forest = np.array([])\n",
    "        np.random.seed(i)\n",
    "        random_Num =  np.random.randint(randomRange)\n",
    "        BeginTime = random_Num  \n",
    "        timestamp = fix_history_length + random_Num\n",
    "        EndTime = timestamp + fix_test_length\n",
    "\n",
    "        # use BeginTime and EndTime to filter test and train_valid\n",
    "        train_valid = stock.iloc[BeginTime:timestamp, : ]\n",
    "        test = stock.iloc[timestamp:EndTime, : ]\n",
    "\n",
    "        for depth in depth_list:\n",
    "            random_forest = np.append(random_forest, kfold_randomForest(train_valid, target, 10, depth, features))\n",
    "\n",
    "        depth_selected_randomForest = depth_list[random_forest.argmin()]\n",
    "\n",
    "        print('depth_selected',depth_selected_randomForest)\n",
    "\n",
    "        X_cv = train_valid[features]\n",
    "        Y_cv = train_valid[target]\n",
    "\n",
    "        X_test_cv = test[features]\n",
    "        Y_test_cv = test[target]\n",
    "\n",
    "\n",
    "        model_cv = RandomForestRegressor(max_depth=depth_selected_randomForest)\n",
    "        model_cv.fit(X_cv, Y_cv)\n",
    "        Y_test_cv_fit = model_cv.predict(X_test_cv)\n",
    "\n",
    "        long_short_df = pd.DataFrame({'Return': Y_test_cv.values.reshape(1,-1)[0].tolist(),\n",
    "                                      'Predicted_Return': Y_test_cv_fit.reshape(1,-1)[0].tolist(),\n",
    "                                      'Capital': np.zeros(len(Y_test_cv))},\n",
    "                                     index = Y_test_cv.index)\n",
    "\n",
    "        cols = ['Return', 'Predicted_Return', 'Capital']\n",
    "        long_short_df = long_short_df[cols]\n",
    "\n",
    "        initial = pd.DataFrame(np.array([0,0,1]).reshape(-1,3), \n",
    "                               columns = long_short_df.columns)\n",
    "        long_short_df = pd.concat([initial, long_short_df])\n",
    "        long_short_df_final = computation(long_short_df)\n",
    "\n",
    "\n",
    "        profit_final = np.append(profit_final,long_short_df_final.iloc[-1,2])\n",
    "\n",
    "\n",
    "\n",
    "\n",
    "\n",
    "#     profit_final = (profit_final - 1)*100\n",
    "\n",
    "#     print('Returns :')\n",
    "#     for idx, num in enumerate(profit_final):\n",
    "#         print(round(profit_final[idx]), end='%, ')\n",
    "\n",
    "#     print('Maximum Return: ', np.around(max(profit_final)))\n",
    "#     print('Minimum Return: ', np.around(min(profit_final)))\n",
    "#     print('Average Return: ', np.around(profit_final.mean()))\n",
    "#     print('Standard Deviation: ', np.around(profit_final.std()))\n",
    "#     print(\"320 training days\")\n",
    "#     print(\"80 validation days\")\n",
    "#     print(\"100 test days\")\n",
    "    \n",
    "    \n",
    "    return long_short_df_final\n",
    "    "
   ]
  },
  {
   "cell_type": "code",
   "execution_count": 1143,
   "metadata": {},
   "outputs": [
    {
     "name": "stdout",
     "output_type": "stream",
     "text": [
      "depth_selected 2\n",
      "depth_selected 2\n",
      "depth_selected 2\n",
      "depth_selected 2\n",
      "depth_selected 5\n",
      "depth_selected 15\n",
      "depth_selected 5\n",
      "depth_selected 2\n",
      "depth_selected 2\n",
      "depth_selected 2\n"
     ]
    }
   ],
   "source": [
    "backtest_random_forest_0001 = backtest_random_forest(hk_0001, features_0001)\n",
    "backtest_random_forest_0002 = backtest_random_forest(hk_0002, features_0002)\n",
    "backtest_random_forest_0003 = backtest_random_forest(hk_0003, features_0003)\n",
    "backtest_random_forest_0004 = backtest_random_forest(hk_0004, features_0004)\n",
    "backtest_random_forest_0005 = backtest_random_forest(hk_0005, features_0005)\n",
    "backtest_random_forest_0006 = backtest_random_forest(hk_0006, features_0006)\n",
    "backtest_random_forest_0007 = backtest_random_forest(hk_0007, features_0007)\n",
    "backtest_random_forest_0008 = backtest_random_forest(hk_0008, features_0008)\n",
    "backtest_random_forest_0009 = backtest_random_forest(hk_0009, features_0009)\n",
    "backtest_random_forest_0010 = backtest_random_forest(hk_0010, features_0010)"
   ]
  },
  {
   "cell_type": "code",
   "execution_count": 1144,
   "metadata": {},
   "outputs": [
    {
     "name": "stdout",
     "output_type": "stream",
     "text": [
      "r2_0001 = 0.03827050731210557\n",
      "r2_0002 = -0.0036902383373114134\n",
      "r2_0003 = 0.01592438120706674\n",
      "r2_0004 = -0.10103523589398744\n",
      "r2_0005 = 0.07304913648645461\n",
      "r2_0006 = 0.048877196476611484\n",
      "r2_0007 = -0.01654916916521354\n",
      "r2_0008 = 0.03361683559310935\n",
      "r2_0009 = 0.026081688953132454\n",
      "r2_0010 = -0.0044709643330889115\n"
     ]
    }
   ],
   "source": [
    "print('r2_0001 =', r2_score(backtest_random_forest_0001['Return'], backtest_random_forest_0001['Predicted_Return']))\n",
    "print('r2_0002 =', r2_score(backtest_random_forest_0002['Return'], backtest_random_forest_0002['Predicted_Return']))\n",
    "print('r2_0003 =', r2_score(backtest_random_forest_0003['Return'], backtest_random_forest_0003['Predicted_Return']))\n",
    "print('r2_0004 =', r2_score(backtest_random_forest_0004['Return'], backtest_random_forest_0004['Predicted_Return']))\n",
    "print('r2_0005 =', r2_score(backtest_random_forest_0005['Return'], backtest_random_forest_0005['Predicted_Return']))\n",
    "print('r2_0006 =', r2_score(backtest_random_forest_0006['Return'], backtest_random_forest_0006['Predicted_Return']))\n",
    "print('r2_0007 =', r2_score(backtest_random_forest_0007['Return'], backtest_random_forest_0007['Predicted_Return']))\n",
    "print('r2_0008 =', r2_score(backtest_random_forest_0008['Return'], backtest_random_forest_0008['Predicted_Return']))\n",
    "print('r2_0009 =', r2_score(backtest_random_forest_0009['Return'], backtest_random_forest_0009['Predicted_Return']))\n",
    "print('r2_0010 =', r2_score(backtest_random_forest_0010['Return'], backtest_random_forest_0010['Predicted_Return']))\n"
   ]
  },
  {
   "cell_type": "code",
   "execution_count": 1145,
   "metadata": {},
   "outputs": [],
   "source": [
    "portfolio_random_forest = 1/10 * (backtest_random_forest_0001['Capital'] + backtest_random_forest_0002['Capital'] + backtest_random_forest_0003['Capital'] + backtest_random_forest_0004['Capital'] + backtest_random_forest_0005['Capital'] + backtest_random_forest_0006['Capital'] + backtest_random_forest_0007['Capital'] +  backtest_random_forest_0008['Capital'] + backtest_random_forest_0009['Capital'] + backtest_random_forest_0010['Capital'])\n",
    "\n"
   ]
  },
  {
   "cell_type": "code",
   "execution_count": 1146,
   "metadata": {},
   "outputs": [
    {
     "data": {
      "text/plain": [
       "<matplotlib.legend.Legend at 0x142e575f8>"
      ]
     },
     "execution_count": 1146,
     "metadata": {},
     "output_type": "execute_result"
    },
    {
     "data": {
      "image/png": "[encoded data removed]",
      "text/plain": [
       "<Figure size 1440x720 with 1 Axes>"
      ]
     },
     "metadata": {},
     "output_type": "display_data"
    }
   ],
   "source": [
    "# seed is the same at 0 \n",
    "np.random.seed(0)\n",
    "random_Num =  np.random.randint(randomRange)\n",
    "BeginTime = random_Num\n",
    "timestamp = fix_history_length + random_Num\n",
    "EndTime = timestamp + fix_test_length\n",
    "\n",
    "plt.figure(figsize=(20, 10))\n",
    "# plt.plot(hk_0008['Close'][timestamp:EndTime] / hk_0008['Close'][timestamp], label = \"Long-only\")\n",
    "plt.plot(portfolio_random_forest[1:], lw=2, label='Lasso-model')\n",
    "plt.xlabel('Time')\n",
    "plt.ylabel('Captical')\n",
    "plt.title(\"10 year backtest\")\n",
    "plt.legend(loc='upper left', fontsize=12)"
   ]
  },
  {
   "cell_type": "code",
   "execution_count": null,
   "metadata": {},
   "outputs": [],
   "source": []
  },
  {
   "cell_type": "markdown",
   "metadata": {},
   "source": [
    "# Diebold-Mariano Test"
   ]
  },
  {
   "cell_type": "code",
   "execution_count": 1147,
   "metadata": {},
   "outputs": [],
   "source": [
    "def dm_test(actual_lst, pred1_lst, pred2_lst, h = 1, crit=\"MSE\", power = 2):\n",
    "    # Routine for checking errors\n",
    "    def error_check():\n",
    "        rt = 0\n",
    "        msg = \"\"\n",
    "        # Check if h is an integer\n",
    "        if (not isinstance(h, int)):\n",
    "            rt = -1\n",
    "            msg = \"The type of the number of steps ahead (h) is not an integer.\"\n",
    "            return (rt,msg)\n",
    "        # Check the range of h\n",
    "        if (h < 1):\n",
    "            rt = -1\n",
    "            msg = \"The number of steps ahead (h) is not large enough.\"\n",
    "            return (rt,msg)\n",
    "        len_act = len(actual_lst)\n",
    "        len_p1  = len(pred1_lst)\n",
    "        len_p2  = len(pred2_lst)\n",
    "        # Check if lengths of actual values and predicted values are equal\n",
    "        if (len_act != len_p1 or len_p1 != len_p2 or len_act != len_p2):\n",
    "            rt = -1\n",
    "            msg = \"Lengths of actual_lst, pred1_lst and pred2_lst do not match.\"\n",
    "            return (rt,msg)\n",
    "        # Check range of h\n",
    "        if (h >= len_act):\n",
    "            rt = -1\n",
    "            msg = \"The number of steps ahead is too large.\"\n",
    "            return (rt,msg)\n",
    "        # Check if criterion supported\n",
    "        if (crit != \"MSE\" and crit != \"MAPE\" and crit != \"MAD\" and crit != \"poly\"):\n",
    "            rt = -1\n",
    "            msg = \"The criterion is not supported.\"\n",
    "            return (rt,msg)  \n",
    "        # Check if every value of the input lists are numerical values\n",
    "        from re import compile as re_compile\n",
    "        comp = re_compile(\"^\\d+?\\.\\d+?$\")  \n",
    "        def compiled_regex(s):\n",
    "            \"\"\" Returns True is string is a number. \"\"\"\n",
    "            #if comp.match(s) is None:\n",
    "            #    return s.isdigit()\n",
    "            return True\n",
    "        for actual, pred1, pred2 in zip(actual_lst, pred1_lst, pred2_lst):\n",
    "            is_actual_ok = compiled_regex(str(abs(actual)))\n",
    "            is_pred1_ok = compiled_regex(str(abs(pred1)))\n",
    "            is_pred2_ok = compiled_regex(str(abs(pred2)))\n",
    "            if (not (is_actual_ok and is_pred1_ok and is_pred2_ok)):  \n",
    "                msg = \"An element in the actual_lst, pred1_lst or pred2_lst is not numeric.\"\n",
    "                rt = -1\n",
    "                return (rt,msg)\n",
    "        return (rt,msg)\n",
    "    \n",
    "    # Error check\n",
    "    error_code = error_check()\n",
    "    # Raise error if cannot pass error check\n",
    "    if (error_code[0] == -1):\n",
    "        raise SyntaxError(error_code[1])\n",
    "        return\n",
    "    # Import libraries\n",
    "    from scipy.stats import t\n",
    "    import collections\n",
    "    import pandas as pd\n",
    "    import numpy as np\n",
    "    \n",
    "    # Initialise lists\n",
    "    e1_lst = []\n",
    "    e2_lst = []\n",
    "    d_lst  = []\n",
    "    \n",
    "    # convert every value of the lists into real values\n",
    "    actual_lst = pd.Series(actual_lst).apply(lambda x: float(x)).tolist()\n",
    "    pred1_lst = pd.Series(pred1_lst).apply(lambda x: float(x)).tolist()\n",
    "    pred2_lst = pd.Series(pred2_lst).apply(lambda x: float(x)).tolist()\n",
    "    \n",
    "    # Length of lists (as real numbers)\n",
    "    T = float(len(actual_lst))\n",
    "    \n",
    "    # construct d according to crit\n",
    "    if (crit == \"MSE\"):\n",
    "        for actual,p1,p2 in zip(actual_lst,pred1_lst,pred2_lst):\n",
    "            e1_lst.append((actual - p1)**2)\n",
    "            e2_lst.append((actual - p2)**2)\n",
    "        for e1, e2 in zip(e1_lst, e2_lst):\n",
    "            d_lst.append(e1 - e2)\n",
    "    elif (crit == \"MAD\"):\n",
    "        for actual,p1,p2 in zip(actual_lst,pred1_lst,pred2_lst):\n",
    "            e1_lst.append(abs(actual - p1))\n",
    "            e2_lst.append(abs(actual - p2))\n",
    "        for e1, e2 in zip(e1_lst, e2_lst):\n",
    "            d_lst.append(e1 - e2)\n",
    "    elif (crit == \"MAPE\"):\n",
    "        for actual,p1,p2 in zip(actual_lst,pred1_lst,pred2_lst):\n",
    "            e1_lst.append(abs((actual - p1)/actual))\n",
    "            e2_lst.append(abs((actual - p2)/actual))\n",
    "        for e1, e2 in zip(e1_lst, e2_lst):\n",
    "            d_lst.append(e1 - e2)\n",
    "    elif (crit == \"poly\"):\n",
    "        for actual,p1,p2 in zip(actual_lst,pred1_lst,pred2_lst):\n",
    "            e1_lst.append(((actual - p1))**(power))\n",
    "            e2_lst.append(((actual - p2))**(power))\n",
    "        for e1, e2 in zip(e1_lst, e2_lst):\n",
    "            d_lst.append(e1 - e2)    \n",
    "    \n",
    "    # Mean of d        \n",
    "    mean_d = pd.Series(d_lst).mean()\n",
    "    \n",
    "    # Find autocovariance and construct DM test statistics\n",
    "    def autocovariance(Xi, N, k, Xs):\n",
    "        autoCov = 0\n",
    "        T = float(N)\n",
    "        for i in np.arange(0, N-k):\n",
    "              autoCov += ((Xi[i+k])-Xs)*(Xi[i]-Xs)\n",
    "        return (1/(T))*autoCov\n",
    "    gamma = []\n",
    "    for lag in range(0,h):\n",
    "        gamma.append(autocovariance(d_lst,len(d_lst),lag,mean_d)) # 0, 1, 2\n",
    "    V_d = (gamma[0] + 2*sum(gamma[1:]))/T\n",
    "    DM_stat=V_d**(-0.5)*mean_d\n",
    "    harvey_adj=((T+1-2*h+h*(h-1)/T)/T)**(0.5)\n",
    "    DM_stat = harvey_adj*DM_stat\n",
    "    # Find p-value\n",
    "    p_value = 2*t.cdf(-abs(DM_stat), df = T - 1)\n",
    "    \n",
    "    # Construct named tuple for return\n",
    "    dm_return = collections.namedtuple('dm_return', 'DM p_value')\n",
    "    \n",
    "    rt = dm_return(DM = DM_stat, p_value = p_value)\n",
    "    \n",
    "    return rt"
   ]
  },
  {
   "cell_type": "code",
   "execution_count": 1148,
   "metadata": {},
   "outputs": [
    {
     "name": "stdout",
     "output_type": "stream",
     "text": [
      "dm_return(DM=-1.0042197039437264, p_value=0.3196705220558032)\n",
      "dm_return(DM=-1.0042197039437264, p_value=0.3196705220558032)\n"
     ]
    }
   ],
   "source": [
    "DMT_mad_1 = dm_test(backtest_random_forest_0001['Return'], backtest_random_forest_0001['Predicted_Return'], backtest_lasso_0001['Predicted_Return'], h = 1, crit=\"MAD\")\n",
    "print (rt)\n",
    "DMT_mse_1 = dm_test(backtest_random_forest_0001['Return'], backtest_random_forest_0001['Predicted_Return'], backtest_lasso_0001['Predicted_Return'], h = 1, crit=\"MSE\")\n",
    "print (rt)"
   ]
  },
  {
   "cell_type": "code",
   "execution_count": 1149,
   "metadata": {},
   "outputs": [
    {
     "name": "stdout",
     "output_type": "stream",
     "text": [
      "dm_return(DM=-1.0042197039437264, p_value=0.3196705220558032)\n",
      "dm_return(DM=-1.0042197039437264, p_value=0.3196705220558032)\n"
     ]
    }
   ],
   "source": [
    "DMT_mad_2 = dm_test(backtest_random_forest_0002['Return'], backtest_random_forest_0002['Predicted_Return'], backtest_lasso_0002['Predicted_Return'], h = 1, crit=\"MAD\")\n",
    "print (rt)\n",
    "DMT_mse_2 = dm_test(backtest_random_forest_0002['Return'], backtest_random_forest_0002['Predicted_Return'], backtest_lasso_0002['Predicted_Return'], h = 1, crit=\"MSE\")\n",
    "print (rt)"
   ]
  },
  {
   "cell_type": "code",
   "execution_count": 1150,
   "metadata": {},
   "outputs": [
    {
     "name": "stdout",
     "output_type": "stream",
     "text": [
      "dm_return(DM=-1.0042197039437264, p_value=0.3196705220558032)\n",
      "dm_return(DM=-1.0042197039437264, p_value=0.3196705220558032)\n"
     ]
    }
   ],
   "source": [
    "DMT_mad_3 = dm_test(backtest_random_forest_0003['Return'], backtest_random_forest_0003['Predicted_Return'], backtest_lasso_0003['Predicted_Return'], h = 1, crit=\"MAD\")\n",
    "print (rt)\n",
    "DMT_mse_3 = dm_test(backtest_random_forest_0003['Return'], backtest_random_forest_0003['Predicted_Return'], backtest_lasso_0003['Predicted_Return'], h = 1, crit=\"MSE\")\n",
    "print (rt)"
   ]
  },
  {
   "cell_type": "code",
   "execution_count": 1151,
   "metadata": {},
   "outputs": [
    {
     "name": "stdout",
     "output_type": "stream",
     "text": [
      "dm_return(DM=-1.0042197039437264, p_value=0.3196705220558032)\n",
      "dm_return(DM=-1.0042197039437264, p_value=0.3196705220558032)\n"
     ]
    }
   ],
   "source": [
    "DMT_mad_4 = dm_test(backtest_random_forest_0004['Return'], backtest_random_forest_0004['Predicted_Return'], backtest_lasso_0004['Predicted_Return'], h = 1, crit=\"MAD\")\n",
    "print (rt)\n",
    "DMT_mse_4 = dm_test(backtest_random_forest_0004['Return'], backtest_random_forest_0004['Predicted_Return'], backtest_lasso_0004['Predicted_Return'], h = 1, crit=\"MSE\")\n",
    "print (rt)"
   ]
  },
  {
   "cell_type": "code",
   "execution_count": 1152,
   "metadata": {},
   "outputs": [
    {
     "name": "stdout",
     "output_type": "stream",
     "text": [
      "dm_return(DM=-1.0042197039437264, p_value=0.3196705220558032)\n",
      "dm_return(DM=-1.0042197039437264, p_value=0.3196705220558032)\n"
     ]
    }
   ],
   "source": [
    "DMT_mad_5 = dm_test(backtest_random_forest_0005['Return'], backtest_random_forest_0005['Predicted_Return'], backtest_lasso_0005['Predicted_Return'], h = 1, crit=\"MAD\")\n",
    "print (rt)\n",
    "DMT_mse_5 = dm_test(backtest_random_forest_0005['Return'], backtest_random_forest_0005['Predicted_Return'], backtest_lasso_0005['Predicted_Return'], h = 1, crit=\"MSE\")\n",
    "print (rt)"
   ]
  },
  {
   "cell_type": "code",
   "execution_count": 1153,
   "metadata": {},
   "outputs": [
    {
     "name": "stdout",
     "output_type": "stream",
     "text": [
      "dm_return(DM=-1.0042197039437264, p_value=0.3196705220558032)\n",
      "dm_return(DM=-1.0042197039437264, p_value=0.3196705220558032)\n"
     ]
    }
   ],
   "source": [
    "DMT_mad_6 = dm_test(backtest_random_forest_0006['Return'], backtest_random_forest_0006['Predicted_Return'], backtest_lasso_0006['Predicted_Return'], h = 1, crit=\"MAD\")\n",
    "print (rt)\n",
    "DMT_mse_6 = dm_test(backtest_random_forest_0006['Return'], backtest_random_forest_0006['Predicted_Return'], backtest_lasso_0006['Predicted_Return'], h = 1, crit=\"MSE\")\n",
    "print (rt)"
   ]
  },
  {
   "cell_type": "code",
   "execution_count": 1154,
   "metadata": {},
   "outputs": [
    {
     "name": "stdout",
     "output_type": "stream",
     "text": [
      "dm_return(DM=-1.0042197039437264, p_value=0.3196705220558032)\n",
      "dm_return(DM=-1.0042197039437264, p_value=0.3196705220558032)\n"
     ]
    }
   ],
   "source": [
    "DMT_mad_7 = dm_test(backtest_random_forest_0007['Return'], backtest_random_forest_0007['Predicted_Return'], backtest_lasso_0007['Predicted_Return'], h = 1, crit=\"MAD\")\n",
    "print (rt)\n",
    "DMT_mse_7 = dm_test(backtest_random_forest_0007['Return'], backtest_random_forest_0007['Predicted_Return'], backtest_lasso_0007['Predicted_Return'], h = 1, crit=\"MSE\")\n",
    "print (rt)"
   ]
  },
  {
   "cell_type": "code",
   "execution_count": 1155,
   "metadata": {},
   "outputs": [
    {
     "name": "stdout",
     "output_type": "stream",
     "text": [
      "dm_return(DM=-1.0042197039437264, p_value=0.3196705220558032)\n",
      "dm_return(DM=-1.0042197039437264, p_value=0.3196705220558032)\n"
     ]
    }
   ],
   "source": [
    "DMT_mad_8 = dm_test(backtest_random_forest_0008['Return'], backtest_random_forest_0008['Predicted_Return'], backtest_lasso_0008['Predicted_Return'], h = 1, crit=\"MAD\")\n",
    "print (rt)\n",
    "DMT_mse_8 = dm_test(backtest_random_forest_0008['Return'], backtest_random_forest_0008['Predicted_Return'], backtest_lasso_0008['Predicted_Return'], h = 1, crit=\"MSE\")\n",
    "print (rt)"
   ]
  },
  {
   "cell_type": "code",
   "execution_count": 1156,
   "metadata": {},
   "outputs": [
    {
     "name": "stdout",
     "output_type": "stream",
     "text": [
      "dm_return(DM=-1.0042197039437264, p_value=0.3196705220558032)\n",
      "dm_return(DM=-1.0042197039437264, p_value=0.3196705220558032)\n"
     ]
    }
   ],
   "source": [
    "DMT_mad_9 = dm_test(backtest_random_forest_0009['Return'], backtest_random_forest_0009['Predicted_Return'], backtest_lasso_0009['Predicted_Return'], h = 1, crit=\"MAD\")\n",
    "print (rt)\n",
    "DMT_mse_9 = dm_test(backtest_random_forest_0009['Return'], backtest_random_forest_0009['Predicted_Return'], backtest_lasso_0009['Predicted_Return'], h = 1, crit=\"MSE\")\n",
    "print (rt)"
   ]
  },
  {
   "cell_type": "code",
   "execution_count": 1157,
   "metadata": {},
   "outputs": [
    {
     "name": "stdout",
     "output_type": "stream",
     "text": [
      "dm_return(DM=-1.0042197039437264, p_value=0.3196705220558032)\n",
      "dm_return(DM=-1.0042197039437264, p_value=0.3196705220558032)\n"
     ]
    }
   ],
   "source": [
    "DMT_mad_10 = dm_test(backtest_random_forest_0010['Return'], backtest_random_forest_0010['Predicted_Return'], backtest_lasso_0010['Predicted_Return'], h = 1, crit=\"MAD\")\n",
    "print (rt)\n",
    "DMT_mse_10 = dm_test(backtest_random_forest_0010['Return'], backtest_random_forest_0010['Predicted_Return'], backtest_lasso_0010['Predicted_Return'], h = 1, crit=\"MSE\")\n",
    "print (rt)"
   ]
  },
  {
   "cell_type": "code",
   "execution_count": 1158,
   "metadata": {},
   "outputs": [
    {
     "data": {
      "text/html": [
       "<div>\n",
       "<style scoped>\n",
       "    .dataframe tbody tr th:only-of-type {\n",
       "        vertical-align: middle;\n",
       "    }\n",
       "\n",
       "    .dataframe tbody tr th {\n",
       "        vertical-align: top;\n",
       "    }\n",
       "\n",
       "    .dataframe thead th {\n",
       "        text-align: right;\n",
       "    }\n",
       "</style>\n",
       "<table border=\"1\" class=\"dataframe\">\n",
       "  <thead>\n",
       "    <tr style=\"text-align: right;\">\n",
       "      <th></th>\n",
       "      <th>MAD</th>\n",
       "      <th>MSE</th>\n",
       "    </tr>\n",
       "  </thead>\n",
       "  <tbody>\n",
       "    <tr>\n",
       "      <th>1</th>\n",
       "      <td>0.100692</td>\n",
       "      <td>0.053227</td>\n",
       "    </tr>\n",
       "    <tr>\n",
       "      <th>2</th>\n",
       "      <td>0.024824</td>\n",
       "      <td>0.384876</td>\n",
       "    </tr>\n",
       "    <tr>\n",
       "      <th>3</th>\n",
       "      <td>0.552893</td>\n",
       "      <td>0.430633</td>\n",
       "    </tr>\n",
       "    <tr>\n",
       "      <th>4</th>\n",
       "      <td>0.681335</td>\n",
       "      <td>0.191614</td>\n",
       "    </tr>\n",
       "    <tr>\n",
       "      <th>5</th>\n",
       "      <td>0.841836</td>\n",
       "      <td>0.781831</td>\n",
       "    </tr>\n",
       "    <tr>\n",
       "      <th>6</th>\n",
       "      <td>0.014899</td>\n",
       "      <td>0.046096</td>\n",
       "    </tr>\n",
       "    <tr>\n",
       "      <th>7</th>\n",
       "      <td>0.011183</td>\n",
       "      <td>0.005075</td>\n",
       "    </tr>\n",
       "    <tr>\n",
       "      <th>8</th>\n",
       "      <td>0.230054</td>\n",
       "      <td>0.414130</td>\n",
       "    </tr>\n",
       "    <tr>\n",
       "      <th>9</th>\n",
       "      <td>0.005297</td>\n",
       "      <td>0.009230</td>\n",
       "    </tr>\n",
       "    <tr>\n",
       "      <th>10</th>\n",
       "      <td>0.635315</td>\n",
       "      <td>0.626205</td>\n",
       "    </tr>\n",
       "  </tbody>\n",
       "</table>\n",
       "</div>"
      ],
      "text/plain": [
       "         MAD       MSE\n",
       "1   0.100692  0.053227\n",
       "2   0.024824  0.384876\n",
       "3   0.552893  0.430633\n",
       "4   0.681335  0.191614\n",
       "5   0.841836  0.781831\n",
       "6   0.014899  0.046096\n",
       "7   0.011183  0.005075\n",
       "8   0.230054  0.414130\n",
       "9   0.005297  0.009230\n",
       "10  0.635315  0.626205"
      ]
     },
     "execution_count": 1158,
     "metadata": {},
     "output_type": "execute_result"
    }
   ],
   "source": [
    "mad = np.array([])\n",
    "mse = np.array([])\n",
    "\n",
    "\n",
    "mad = np.append(mad, DMT_mad_1.p_value)\n",
    "mad = np.append(mad, DMT_mad_2.p_value)\n",
    "mad = np.append(mad, DMT_mad_3.p_value)\n",
    "mad = np.append(mad, DMT_mad_4.p_value)\n",
    "mad = np.append(mad, DMT_mad_5.p_value)\n",
    "mad = np.append(mad, DMT_mad_6.p_value)\n",
    "mad = np.append(mad, DMT_mad_7.p_value)\n",
    "mad = np.append(mad, DMT_mad_8.p_value)\n",
    "mad = np.append(mad, DMT_mad_9.p_value)\n",
    "mad = np.append(mad, DMT_mad_10.p_value)\n",
    "\n",
    "\n",
    "mse = np.append(mse, DMT_mse_1.p_value)\n",
    "mse = np.append(mse, DMT_mse_2.p_value)\n",
    "mse = np.append(mse, DMT_mse_3.p_value)\n",
    "mse = np.append(mse, DMT_mse_4.p_value)\n",
    "mse = np.append(mse, DMT_mse_5.p_value)\n",
    "mse = np.append(mse, DMT_mse_6.p_value)\n",
    "mse = np.append(mse, DMT_mse_7.p_value)\n",
    "mse = np.append(mse, DMT_mse_8.p_value)\n",
    "mse = np.append(mse, DMT_mse_9.p_value)\n",
    "mse = np.append(mse, DMT_mse_10.p_value)\n",
    "\n",
    "BMT = pd.DataFrame()\n",
    "BMT['MAD'] = mad\n",
    "BMT['MSE'] = mse\n",
    "BMT.index = range(1,11)\n",
    "BMT"
   ]
  },
  {
   "cell_type": "code",
   "execution_count": null,
   "metadata": {},
   "outputs": [],
   "source": []
  },
  {
   "cell_type": "code",
   "execution_count": null,
   "metadata": {},
   "outputs": [],
   "source": []
  },
  {
   "cell_type": "code",
   "execution_count": 1159,
   "metadata": {},
   "outputs": [],
   "source": [
    "\n",
    "long_lasso = backtest_lasso_0001.copy()\n",
    "short_lasso = backtest_lasso_0001.copy()\n",
    "\n",
    "long_lasso['Return'] = 1\n",
    "long_lasso['Capital'] = 1\n",
    "short_lasso['Return'] = 1\n",
    "short_lasso['Capital'] = 1\n",
    "\n",
    "\n",
    "for i in range(1, backtest_lasso_0001.shape[0]):\n",
    "    if backtest_lasso_0001.loc[backtest_lasso_0001.index[i], 'Predicted_Return'] >= 0:\n",
    "        long_lasso.loc[long_lasso.index[i], 'Return'] += 1/10 * backtest_lasso_0001.loc[backtest_lasso_0001.index[i], 'Return']\n",
    "    else:\n",
    "        short_lasso.loc[short_lasso.index[i], 'Return'] += 1/10 * backtest_lasso_0001.loc[backtest_lasso_0001.index[i], 'Return']\n",
    "        \n",
    "        \n",
    "    if backtest_lasso_0002.loc[backtest_lasso_0002.index[i], 'Predicted_Return'] >= 0:\n",
    "        long_lasso.loc[long_lasso.index[i], 'Return'] += 1/10 * backtest_lasso_0002.loc[backtest_lasso_0002.index[i], 'Return']\n",
    "    else:\n",
    "        short_lasso.loc[short_lasso.index[i], 'Return'] += 1/10 * backtest_lasso_0002.loc[backtest_lasso_0002.index[i], 'Return']\n",
    "        \n",
    "        \n",
    "    if backtest_lasso_0003.loc[backtest_lasso_0003.index[i], 'Predicted_Return'] >= 0:\n",
    "        long_lasso.loc[long_lasso.index[i], 'Return'] += 1/10 * backtest_lasso_0003.loc[backtest_lasso_0003.index[i], 'Return']\n",
    "    else:\n",
    "        short_lasso.loc[short_lasso.index[i], 'Return'] += 1/10 * backtest_lasso_0003.loc[backtest_lasso_0003.index[i], 'Return']\n",
    "        \n",
    "        \n",
    "    if backtest_lasso_0004.loc[backtest_lasso_0004.index[i], 'Predicted_Return'] >= 0:\n",
    "        long_lasso.loc[long_lasso.index[i], 'Return'] += 1/10 * backtest_lasso_0004.loc[backtest_lasso_0004.index[i], 'Return']\n",
    "    else:\n",
    "        short_lasso.loc[short_lasso.index[i], 'Return'] += 1/10 * backtest_lasso_0004.loc[backtest_lasso_0004.index[i], 'Return']\n",
    "        \n",
    "        \n",
    "    if backtest_lasso_0005.loc[backtest_lasso_0005.index[i], 'Predicted_Return'] >= 0:\n",
    "        long_lasso.loc[long_lasso.index[i], 'Return'] += 1/10 * backtest_lasso_0005.loc[backtest_lasso_0005.index[i], 'Return']\n",
    "    else:\n",
    "        short_lasso.loc[short_lasso.index[i], 'Return'] += 1/10 * backtest_lasso_0005.loc[backtest_lasso_0005.index[i], 'Return']\n",
    "        \n",
    "        \n",
    "    if backtest_lasso_0006.loc[backtest_lasso_0006.index[i], 'Predicted_Return'] >= 0:\n",
    "        long_lasso.loc[long_lasso.index[i], 'Return'] += 1/10 * backtest_lasso_0006.loc[backtest_lasso_0006.index[i], 'Return']\n",
    "    else:\n",
    "        short_lasso.loc[short_lasso.index[i], 'Return'] += 1/10 * backtest_lasso_0006.loc[backtest_lasso_0006.index[i], 'Return']\n",
    "        \n",
    "        \n",
    "        \n",
    "    if backtest_lasso_0007.loc[backtest_lasso_0007.index[i], 'Predicted_Return'] >= 0:\n",
    "        long_lasso.loc[long_lasso.index[i], 'Return'] += 1/10 * backtest_lasso_0007.loc[backtest_lasso_0007.index[i], 'Return']\n",
    "    else:\n",
    "        short_lasso.loc[short_lasso.index[i], 'Return'] += 1/10 * backtest_lasso_0007.loc[backtest_lasso_0007.index[i], 'Return']\n",
    "        \n",
    "        \n",
    "        \n",
    "    if backtest_lasso_0008.loc[backtest_lasso_0008.index[i], 'Predicted_Return'] >= 0:\n",
    "        long_lasso.loc[long_lasso.index[i], 'Return'] += 1/10 * backtest_lasso_0008.loc[backtest_lasso_0008.index[i], 'Return']\n",
    "    else:\n",
    "        short_lasso.loc[short_lasso.index[i], 'Return'] += 1/10 * backtest_lasso_0008.loc[backtest_lasso_0008.index[i], 'Return']\n",
    "        \n",
    "        \n",
    "    if backtest_lasso_0009.loc[backtest_lasso_0009.index[i], 'Predicted_Return'] >= 0:\n",
    "        long_lasso.loc[long_lasso.index[i], 'Return'] += 1/10 * backtest_lasso_0009.loc[backtest_lasso_0009.index[i], 'Return']\n",
    "    else:\n",
    "        short_lasso.loc[short_lasso.index[i], 'Return'] += 1/10 * backtest_lasso_0009.loc[backtest_lasso_0009.index[i], 'Return']\n",
    "            \n",
    "        \n",
    "    if backtest_lasso_0010.loc[backtest_lasso_0010.index[i], 'Predicted_Return'] >= 0:\n",
    "        long_lasso.loc[long_lasso.index[i], 'Return'] += 1/10 * backtest_lasso_0010.loc[backtest_lasso_0010.index[i], 'Return']\n",
    "    else:\n",
    "        short_lasso.loc[short_lasso.index[i], 'Return'] += 1/10 * backtest_lasso_0010.loc[backtest_lasso_0010.index[i], 'Return']\n",
    "        \n",
    "    \n",
    "    \n",
    "    long_lasso.loc[long_lasso.index[i], 'Capital'] = long_lasso.loc[long_lasso.index[i-1], 'Capital'] * long_lasso.loc[long_lasso.index[i], 'Return']\n",
    "    short_lasso.loc[short_lasso.index[i], 'Capital'] = short_lasso.loc[short_lasso.index[i-1], 'Capital'] * short_lasso.loc[short_lasso.index[i], 'Return']\n",
    "    \n",
    "    \n",
    "    "
   ]
  },
  {
   "cell_type": "code",
   "execution_count": 1160,
   "metadata": {},
   "outputs": [],
   "source": [
    "\n",
    "long_rf = backtest_random_forest_0001.copy()\n",
    "short_rf = backtest_random_forest_0001.copy()\n",
    "\n",
    "long_rf['Return'] = 1\n",
    "long_rf['Capital'] = 1\n",
    "short_rf['Return'] = 1\n",
    "short_rf['Capital'] = 1\n",
    "\n",
    "\n",
    "for i in range(1, backtest_random_forest_0001.shape[0]):\n",
    "    if backtest_random_forest_0001.loc[backtest_random_forest_0001.index[i], 'Predicted_Return'] >= 0:\n",
    "        long_rf.loc[long_rf.index[i], 'Return'] += 1/10 * backtest_random_forest_0001.loc[backtest_random_forest_0001.index[i], 'Return']\n",
    "    else:\n",
    "        short_rf.loc[short.index[i], 'Return'] += 1/10 * backtest_random_forest_0001.loc[backtest_random_forest_0001.index[i], 'Return']\n",
    "        \n",
    "        \n",
    "    if backtest_random_forest_0002.loc[backtest_random_forest_0002.index[i], 'Predicted_Return'] >= 0:\n",
    "        long_rf.loc[long_rf.index[i], 'Return'] += 1/10 * backtest_random_forest_0002.loc[backtest_random_forest_0002.index[i], 'Return']\n",
    "    else:\n",
    "        short_rf.loc[short.index[i], 'Return'] += 1/10 * backtest_random_forest_0002.loc[backtest_random_forest_0002.index[i], 'Return']\n",
    "        \n",
    "        \n",
    "    if backtest_random_forest_0003.loc[backtest_random_forest_0003.index[i], 'Predicted_Return'] >= 0:\n",
    "        long_rf.loc[long_rf.index[i], 'Return'] += 1/10 * backtest_random_forest_0003.loc[backtest_random_forest_0003.index[i], 'Return']\n",
    "    else:\n",
    "        short_rf.loc[short.index[i], 'Return'] += 1/10 * backtest_random_forest_0003.loc[backtest_random_forest_0003.index[i], 'Return']\n",
    "        \n",
    "        \n",
    "    if backtest_random_forest_0004.loc[backtest_random_forest_0004.index[i], 'Predicted_Return'] >= 0:\n",
    "        long_rf.loc[long_rf.index[i], 'Return'] += 1/10 * backtest_random_forest_0004.loc[backtest_random_forest_0004.index[i], 'Return']\n",
    "    else:\n",
    "        short_rf.loc[short.index[i], 'Return'] += 1/10 * backtest_random_forest_0004.loc[backtest_random_forest_0004.index[i], 'Return']\n",
    "        \n",
    "        \n",
    "    if backtest_random_forest_0005.loc[backtest_random_forest_0005.index[i], 'Predicted_Return'] >= 0:\n",
    "        long_rf.loc[long_rf.index[i], 'Return'] += 1/10 * backtest_random_forest_0005.loc[backtest_random_forest_0005.index[i], 'Return']\n",
    "    else:\n",
    "        short_rf.loc[short.index[i], 'Return'] += 1/10 * backtest_random_forest_0005.loc[backtest_random_forest_0005.index[i], 'Return']\n",
    "        \n",
    "        \n",
    "    if backtest_random_forest_0006.loc[backtest_random_forest_0006.index[i], 'Predicted_Return'] >= 0:\n",
    "        long_rf.loc[long_rf.index[i], 'Return'] += 1/10 * backtest_random_forest_0006.loc[backtest_random_forest_0006.index[i], 'Return']\n",
    "    else:\n",
    "        short_rf.loc[short.index[i], 'Return'] += 1/10 * backtest_random_forest_0006.loc[backtest_random_forest_0006.index[i], 'Return']\n",
    "        \n",
    "        \n",
    "        \n",
    "    if backtest_random_forest_0007.loc[backtest_random_forest_0007.index[i], 'Predicted_Return'] >= 0:\n",
    "        long_rf.loc[long_rf.index[i], 'Return'] += 1/10 * backtest_random_forest_0007.loc[backtest_random_forest_0007.index[i], 'Return']\n",
    "    else:\n",
    "        short_rf.loc[short.index[i], 'Return'] += 1/10 * backtest_random_forest_0007.loc[backtest_random_forest_0007.index[i], 'Return']\n",
    "        \n",
    "        \n",
    "        \n",
    "    if backtest_random_forest_0008.loc[backtest_random_forest_0008.index[i], 'Predicted_Return'] >= 0:\n",
    "        long_rf.loc[long_rf.index[i], 'Return'] += 1/10 * backtest_random_forest_0008.loc[backtest_random_forest_0008.index[i], 'Return']\n",
    "    else:\n",
    "        short_rf.loc[short.index[i], 'Return'] += 1/10 * backtest_random_forest_0008.loc[backtest_random_forest_0008.index[i], 'Return']\n",
    "        \n",
    "        \n",
    "    if backtest_random_forest_0009.loc[backtest_random_forest_0009.index[i], 'Predicted_Return'] >= 0:\n",
    "        long_rf.loc[long_rf.index[i], 'Return'] += 1/10 * backtest_random_forest_0009.loc[backtest_random_forest_0009.index[i], 'Return']\n",
    "    else:\n",
    "        short_rf.loc[short.index[i], 'Return'] += 1/10 * backtest_random_forest_0009.loc[backtest_random_forest_0009.index[i], 'Return']\n",
    "            \n",
    "        \n",
    "    if backtest_random_forest_0010.loc[backtest_random_forest_0010.index[i], 'Predicted_Return'] >= 0:\n",
    "        long_rf.loc[long_rf.index[i], 'Return'] += 1/10 * backtest_random_forest_0010.loc[backtest_random_forest_0010.index[i], 'Return']\n",
    "    else:\n",
    "        short_rf.loc[short.index[i], 'Return'] += 1/10 * backtest_random_forest_0010.loc[backtest_random_forest_0010.index[i], 'Return']\n",
    "        \n",
    "    \n",
    "    \n",
    "    long_rf.loc[long_rf.index[i], 'Capital'] = long_rf.loc[long_rf.index[i-1], 'Capital'] * long_rf.loc[long_rf.index[i], 'Return']\n",
    "    short_rf.loc[short_rf.index[i], 'Capital'] = short_rf.loc[short_rf.index[i-1], 'Capital'] * short_rf.loc[short_rf.index[i], 'Return']\n",
    "    \n",
    "    \n",
    "    "
   ]
  },
  {
   "cell_type": "code",
   "execution_count": null,
   "metadata": {},
   "outputs": [],
   "source": []
  },
  {
   "cell_type": "code",
   "execution_count": 1161,
   "metadata": {},
   "outputs": [
    {
     "data": {
      "text/plain": [
       "<matplotlib.legend.Legend at 0x143bca208>"
      ]
     },
     "execution_count": 1161,
     "metadata": {},
     "output_type": "execute_result"
    },
    {
     "data": {
      "image/png": "[encoded data removed]",
      "text/plain": [
       "<Figure size 1440x720 with 1 Axes>"
      ]
     },
     "metadata": {},
     "output_type": "display_data"
    }
   ],
   "source": [
    "plt.figure(figsize=(20, 10))\n",
    "plt.plot(np.ones(56), ls='-', lw=0.5, color = 'k')\n",
    "plt.plot(long_lasso['Capital'].values, ls='-', color = 'tab:red', label='lasso (long)')\n",
    "plt.plot(short_lasso['Capital'].values, ls='--', color = 'tab:red', label='lasso (short)')\n",
    "plt.plot(long_rf['Capital'].values, ls='-', color = 'tab:blue', label='random forest (long)')\n",
    "plt.plot(short_rf['Capital'].values, ls='--', color = 'tab:blue', label='random forest (short)')\n",
    "\n",
    "plt.plot(bandmark['Capital'].values, ls='-', color = 'K', label='bandmark (hold all assets)')\n",
    "\n",
    "plt.title(\"Cumulative Return of Machine Learning Portfolios (Equally Weighted)\")\n",
    "plt.legend(loc='upper left', fontsize=12)"
   ]
  },
  {
   "cell_type": "code",
   "execution_count": null,
   "metadata": {},
   "outputs": [],
   "source": []
  },
  {
   "cell_type": "code",
   "execution_count": 1162,
   "metadata": {},
   "outputs": [],
   "source": [
    "r2_rf = np.array([])\n",
    "\n",
    "r2_rf = np.append(r2_rf, r2_score(backtest_random_forest_0001['Return'], backtest_random_forest_0001['Predicted_Return']))\n",
    "r2_rf = np.append(r2_rf, r2_score(backtest_random_forest_0002['Return'], backtest_random_forest_0002['Predicted_Return']))\n",
    "r2_rf = np.append(r2_rf, r2_score(backtest_random_forest_0003['Return'], backtest_random_forest_0003['Predicted_Return']))\n",
    "r2_rf = np.append(r2_rf, r2_score(backtest_random_forest_0004['Return'], backtest_random_forest_0004['Predicted_Return']))\n",
    "r2_rf = np.append(r2_rf, r2_score(backtest_random_forest_0005['Return'], backtest_random_forest_0005['Predicted_Return']))\n",
    "r2_rf = np.append(r2_rf, r2_score(backtest_random_forest_0006['Return'], backtest_random_forest_0006['Predicted_Return']))\n",
    "r2_rf = np.append(r2_rf, r2_score(backtest_random_forest_0007['Return'], backtest_random_forest_0007['Predicted_Return']))\n",
    "r2_rf = np.append(r2_rf, r2_score(backtest_random_forest_0008['Return'], backtest_random_forest_0008['Predicted_Return']))\n",
    "r2_rf = np.append(r2_rf, r2_score(backtest_random_forest_0009['Return'], backtest_random_forest_0009['Predicted_Return']))\n",
    "r2_rf = np.append(r2_rf, r2_score(backtest_random_forest_0010['Return'], backtest_random_forest_0010['Predicted_Return']))\n",
    "\n"
   ]
  },
  {
   "cell_type": "code",
   "execution_count": 1163,
   "metadata": {},
   "outputs": [],
   "source": [
    "r2_lasso = np.array([])\n",
    "\n",
    "r2_lasso = np.append(r2_lasso, r2_score(backtest_lasso_0001['Return'], backtest_lasso_0001['Predicted_Return']))\n",
    "r2_lasso = np.append(r2_lasso, r2_score(backtest_lasso_0002['Return'], backtest_lasso_0002['Predicted_Return']))\n",
    "r2_lasso = np.append(r2_lasso, r2_score(backtest_lasso_0003['Return'], backtest_lasso_0003['Predicted_Return']))\n",
    "r2_lasso = np.append(r2_lasso, r2_score(backtest_lasso_0004['Return'], backtest_lasso_0004['Predicted_Return']))\n",
    "r2_lasso = np.append(r2_lasso, r2_score(backtest_lasso_0005['Return'], backtest_lasso_0005['Predicted_Return']))\n",
    "r2_lasso = np.append(r2_lasso, r2_score(backtest_lasso_0006['Return'], backtest_lasso_0006['Predicted_Return']))\n",
    "r2_lasso = np.append(r2_lasso, r2_score(backtest_lasso_0007['Return'], backtest_lasso_0007['Predicted_Return']))\n",
    "r2_lasso = np.append(r2_lasso, r2_score(backtest_lasso_0008['Return'], backtest_lasso_0008['Predicted_Return']))\n",
    "r2_lasso = np.append(r2_lasso, r2_score(backtest_lasso_0009['Return'], backtest_lasso_0009['Predicted_Return']))\n",
    "r2_lasso = np.append(r2_lasso, r2_score(backtest_lasso_0010['Return'], backtest_lasso_0010['Predicted_Return']))\n",
    "\n"
   ]
  },
  {
   "cell_type": "code",
   "execution_count": 1164,
   "metadata": {},
   "outputs": [],
   "source": [
    "r2_wide = pd.DataFrame()\n",
    "r2_wide['lasso'] = r2_lasso\n",
    "r2_wide['random_forest'] = r2_rf\n",
    "r2_wide.index = range(1,11)\n",
    "\n",
    "\n",
    "r2_long = r2_wide.unstack().reset_index() \n",
    "# r2_rf_long = r2_rf_wide.unstack().reset_index() \n",
    "\n",
    "\n",
    "r2_long.columns = ['stocks','slices','r2']\n",
    "# r2_rf_long = ['stocks','slices','r2']\n"
   ]
  },
  {
   "cell_type": "code",
   "execution_count": 1165,
   "metadata": {},
   "outputs": [
    {
     "name": "stdout",
     "output_type": "stream",
     "text": [
      "Monthly Out-of-sample Stock-level Prediction Performance (R2)\n"
     ]
    },
    {
     "data": {
      "text/html": [
       "<div>\n",
       "<style scoped>\n",
       "    .dataframe tbody tr th:only-of-type {\n",
       "        vertical-align: middle;\n",
       "    }\n",
       "\n",
       "    .dataframe tbody tr th {\n",
       "        vertical-align: top;\n",
       "    }\n",
       "\n",
       "    .dataframe thead th {\n",
       "        text-align: right;\n",
       "    }\n",
       "</style>\n",
       "<table border=\"1\" class=\"dataframe\">\n",
       "  <thead>\n",
       "    <tr style=\"text-align: right;\">\n",
       "      <th></th>\n",
       "      <th>lasso</th>\n",
       "      <th>random_forest</th>\n",
       "    </tr>\n",
       "  </thead>\n",
       "  <tbody>\n",
       "    <tr>\n",
       "      <th>1</th>\n",
       "      <td>-0.371134</td>\n",
       "      <td>0.038271</td>\n",
       "    </tr>\n",
       "    <tr>\n",
       "      <th>2</th>\n",
       "      <td>-0.190771</td>\n",
       "      <td>-0.003690</td>\n",
       "    </tr>\n",
       "    <tr>\n",
       "      <th>3</th>\n",
       "      <td>0.078846</td>\n",
       "      <td>0.015924</td>\n",
       "    </tr>\n",
       "    <tr>\n",
       "      <th>4</th>\n",
       "      <td>-0.305178</td>\n",
       "      <td>-0.101035</td>\n",
       "    </tr>\n",
       "    <tr>\n",
       "      <th>5</th>\n",
       "      <td>0.043342</td>\n",
       "      <td>0.073049</td>\n",
       "    </tr>\n",
       "    <tr>\n",
       "      <th>6</th>\n",
       "      <td>-0.390080</td>\n",
       "      <td>0.048877</td>\n",
       "    </tr>\n",
       "    <tr>\n",
       "      <th>7</th>\n",
       "      <td>-1.214872</td>\n",
       "      <td>-0.016549</td>\n",
       "    </tr>\n",
       "    <tr>\n",
       "      <th>8</th>\n",
       "      <td>-0.103547</td>\n",
       "      <td>0.033617</td>\n",
       "    </tr>\n",
       "    <tr>\n",
       "      <th>9</th>\n",
       "      <td>-0.339444</td>\n",
       "      <td>0.026082</td>\n",
       "    </tr>\n",
       "    <tr>\n",
       "      <th>10</th>\n",
       "      <td>-0.032795</td>\n",
       "      <td>-0.004471</td>\n",
       "    </tr>\n",
       "  </tbody>\n",
       "</table>\n",
       "</div>"
      ],
      "text/plain": [
       "       lasso  random_forest\n",
       "1  -0.371134       0.038271\n",
       "2  -0.190771      -0.003690\n",
       "3   0.078846       0.015924\n",
       "4  -0.305178      -0.101035\n",
       "5   0.043342       0.073049\n",
       "6  -0.390080       0.048877\n",
       "7  -1.214872      -0.016549\n",
       "8  -0.103547       0.033617\n",
       "9  -0.339444       0.026082\n",
       "10 -0.032795      -0.004471"
      ]
     },
     "execution_count": 1165,
     "metadata": {},
     "output_type": "execute_result"
    }
   ],
   "source": [
    "print(\"Monthly Out-of-sample Stock-level Prediction Performance (R2)\")\n",
    "r2_wide"
   ]
  },
  {
   "cell_type": "code",
   "execution_count": 1166,
   "metadata": {},
   "outputs": [
    {
     "data": {
      "text/plain": [
       "[Text(0, 0.5, 'weight'), Text(0.5, 0, 'rolling')]"
      ]
     },
     "execution_count": 1166,
     "metadata": {},
     "output_type": "execute_result"
    },
    {
     "data": {
      "image/png": "[encoded data removed]",
      "text/plain": [
       "<Figure size 1440x720 with 1 Axes>"
      ]
     },
     "metadata": {},
     "output_type": "display_data"
    }
   ],
   "source": [
    "# plot to compare the allocations\n",
    "sns.set(rc={'figure.figsize':(20,10)})\n",
    "\n",
    "ax = sns.barplot(data=r2_long, x='slices', y='r2', hue='stocks')\n",
    "ax.set_title(\"Monthly Out-of-sample Stock-level Prediction Performance (R2)\")\n",
    "ax.set(xlabel='rolling', ylabel='weight')"
   ]
  },
  {
   "cell_type": "code",
   "execution_count": null,
   "metadata": {},
   "outputs": [],
   "source": []
  },
  {
   "cell_type": "code",
   "execution_count": null,
   "metadata": {},
   "outputs": [],
   "source": []
  },
  {
   "cell_type": "code",
   "execution_count": null,
   "metadata": {},
   "outputs": [],
   "source": []
  },
  {
   "cell_type": "code",
   "execution_count": null,
   "metadata": {},
   "outputs": [],
   "source": []
  },
  {
   "cell_type": "code",
   "execution_count": null,
   "metadata": {},
   "outputs": [],
   "source": []
  },
  {
   "cell_type": "code",
   "execution_count": null,
   "metadata": {},
   "outputs": [],
   "source": []
  },
  {
   "cell_type": "code",
   "execution_count": null,
   "metadata": {},
   "outputs": [],
   "source": []
  },
  {
   "cell_type": "code",
   "execution_count": null,
   "metadata": {},
   "outputs": [],
   "source": []
  },
  {
   "cell_type": "code",
   "execution_count": null,
   "metadata": {},
   "outputs": [],
   "source": []
  },
  {
   "cell_type": "code",
   "execution_count": null,
   "metadata": {},
   "outputs": [],
   "source": []
  },
  {
   "cell_type": "code",
   "execution_count": null,
   "metadata": {},
   "outputs": [],
   "source": []
  },
  {
   "cell_type": "code",
   "execution_count": null,
   "metadata": {},
   "outputs": [],
   "source": []
  },
  {
   "cell_type": "code",
   "execution_count": null,
   "metadata": {},
   "outputs": [],
   "source": []
  },
  {
   "cell_type": "code",
   "execution_count": null,
   "metadata": {},
   "outputs": [],
   "source": []
  },
  {
   "cell_type": "code",
   "execution_count": null,
   "metadata": {},
   "outputs": [],
   "source": []
  },
  {
   "cell_type": "code",
   "execution_count": null,
   "metadata": {},
   "outputs": [],
   "source": []
  },
  {
   "cell_type": "code",
   "execution_count": null,
   "metadata": {},
   "outputs": [],
   "source": []
  },
  {
   "cell_type": "code",
   "execution_count": null,
   "metadata": {},
   "outputs": [],
   "source": []
  },
  {
   "cell_type": "code",
   "execution_count": null,
   "metadata": {},
   "outputs": [],
   "source": []
  },
  {
   "cell_type": "code",
   "execution_count": null,
   "metadata": {},
   "outputs": [],
   "source": []
  },
  {
   "cell_type": "code",
   "execution_count": null,
   "metadata": {},
   "outputs": [],
   "source": []
  },
  {
   "cell_type": "code",
   "execution_count": null,
   "metadata": {},
   "outputs": [],
   "source": []
  },
  {
   "cell_type": "code",
   "execution_count": null,
   "metadata": {},
   "outputs": [],
   "source": []
  },
  {
   "cell_type": "code",
   "execution_count": null,
   "metadata": {},
   "outputs": [],
   "source": []
  },
  {
   "cell_type": "code",
   "execution_count": null,
   "metadata": {},
   "outputs": [],
   "source": []
  },
  {
   "cell_type": "code",
   "execution_count": null,
   "metadata": {},
   "outputs": [],
   "source": []
  },
  {
   "cell_type": "code",
   "execution_count": null,
   "metadata": {},
   "outputs": [],
   "source": []
  },
  {
   "cell_type": "code",
   "execution_count": null,
   "metadata": {},
   "outputs": [],
   "source": []
  },
  {
   "cell_type": "code",
   "execution_count": null,
   "metadata": {},
   "outputs": [],
   "source": []
  },
  {
   "cell_type": "code",
   "execution_count": null,
   "metadata": {},
   "outputs": [],
   "source": []
  },
  {
   "cell_type": "code",
   "execution_count": null,
   "metadata": {},
   "outputs": [],
   "source": []
  },
  {
   "cell_type": "code",
   "execution_count": null,
   "metadata": {},
   "outputs": [],
   "source": []
  },
  {
   "cell_type": "code",
   "execution_count": null,
   "metadata": {},
   "outputs": [],
   "source": []
  },
  {
   "cell_type": "code",
   "execution_count": null,
   "metadata": {},
   "outputs": [],
   "source": []
  },
  {
   "cell_type": "code",
   "execution_count": null,
   "metadata": {},
   "outputs": [],
   "source": []
  },
  {
   "cell_type": "code",
   "execution_count": null,
   "metadata": {},
   "outputs": [],
   "source": []
  }
 ],
 "metadata": {
  "kernelspec": {
   "display_name": "Python 3",
   "language": "python",
   "name": "python3"
  },
  "language_info": {
   "codemirror_mode": {
    "name": "ipython",
    "version": 3
   },
   "file_extension": ".py",
   "mimetype": "text/x-python",
   "name": "python",
   "nbconvert_exporter": "python",
   "pygments_lexer": "ipython3",
   "version": "3.7.3"
  }
 },
 "nbformat": 4,
 "nbformat_minor": 4
}
